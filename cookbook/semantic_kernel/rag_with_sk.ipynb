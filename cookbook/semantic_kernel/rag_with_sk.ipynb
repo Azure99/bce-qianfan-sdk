{
 "cells": [
  {
   "attachments": {},
   "cell_type": "markdown",
   "id": "68e1c158",
   "metadata": {},
   "source": [
    "# 通过SK实现RAG\n",
    "\n",
    "对于需要外部知识支撑的场景，我们通常会使用RAG（Retrieval Augmented Generation）来实现，其中一般会涉及到文档解析，切片，向量化\n",
    "检索，通过LLM生成输出等步骤。\n",
    "在[Semantic ChatBot](./chatbot_with_sk.ipynb)中我们基于semantic kernel实现了一个简单的chatbot，并使用`context variables`\n",
    "实现了历史聊天的存储和记录。\n",
    "但是对于很长的外部知识库库，我们可能会因此需要超长的上下文，甚至无法没办法记录所有的历史，为此SK中提供了Memory类型以记录实现LLM的记忆能力。"
   ]
  },
  {
   "cell_type": "code",
   "execution_count": null,
   "id": "a77bdf89",
   "metadata": {},
   "outputs": [],
   "source": [
    "! pip install semantic-kernel==0.4.5.dev0"
   ]
  },
  {
   "cell_type": "markdown",
   "id": "851c62ca",
   "metadata": {},
   "source": [
    "初始化鉴权，导入SK，以及适配SK的Qianfan实现类型"
   ]
  },
  {
   "cell_type": "code",
   "execution_count": 1,
   "id": "5f6cd63f",
   "metadata": {},
   "outputs": [],
   "source": [
    "import os \n",
    "\n",
    "os.environ[\"QIANFAN_ACCESS_KEY\"] = \"your_ak\"\n",
    "os.environ[\"QIANFAN_SECRET_KEY\"] = \"your_sk\""
   ]
  },
  {
   "cell_type": "code",
   "execution_count": 2,
   "id": "508ad44f",
   "metadata": {},
   "outputs": [],
   "source": [
    "import semantic_kernel as sk\n",
    "from qianfan.extensions.semantic_kernel import (\n",
    "    QianfanChatCompletion,\n",
    "    QianfanTextEmbedding,\n",
    ")"
   ]
  },
  {
   "attachments": {},
   "cell_type": "markdown",
   "id": "d8ddffc1",
   "metadata": {},
   "source": [
    "### SK Memory\n",
    "\n",
    "SK Memory 是一个数据框架，可以通过接入外部的各种数据源；可以是从网页，数据库，email等，这些都集成在了SK的内置connectors中，而通过`QianfanTextEmbedding`，可以提取这些数据源中的文本的特征向量，以供后续的检索使用。\n",
    "\n",
    "\n",
    "这里使用了`VolatileMemoryStore`作为Memory的实现为例，`VolatileMemoryStore` 实现了内存的临时存储（底层通过一个Dict[Dict[str, MemoryRecord]] 实现分collection的kv存储）。"
   ]
  },
  {
   "cell_type": "code",
   "execution_count": 3,
   "id": "8f8dcbc6",
   "metadata": {},
   "outputs": [
    {
     "data": {
      "text/plain": [
       "{'recall': SKFunction(), 'save': SKFunction()}"
      ]
     },
     "execution_count": 3,
     "metadata": {},
     "output_type": "execute_result"
    }
   ],
   "source": [
    "from semantic_kernel.memory import VolatileMemoryStore\n",
    "from semantic_kernel.core_skills import TextMemorySkill\n",
    "kernel = sk.Kernel()\n",
    "\n",
    "qf_chat_service = QianfanChatCompletion(ai_model_id=\"ERNIE-Bot-4\")\n",
    "qf_text_embedding = QianfanTextEmbedding(ai_model_id=\"Embedding-V1\")\n",
    "kernel.add_chat_service(\"chat-qf\", qf_chat_service)\n",
    "kernel.add_text_embedding_generation_service(\"embed-eb\", qf_text_embedding)\n",
    "\n",
    "kernel.register_memory_store(memory_store=VolatileMemoryStore())\n",
    "kernel.import_skill(TextMemorySkill())"
   ]
  },
  {
   "cell_type": "markdown",
   "id": "65fbedd3",
   "metadata": {},
   "source": [
    "调用异步函数，完成数据的添加，这里往了一个名为`aboutMe`的`collection`中添加了若干个人信息"
   ]
  },
  {
   "cell_type": "code",
   "execution_count": 4,
   "id": "d096504c",
   "metadata": {},
   "outputs": [],
   "source": [
    "async def populate_memory(kernel: sk.Kernel) -> None:\n",
    "    # Add some documents to the semantic memory\n",
    "    await kernel.memory.save_information_async(collection=\"aboutMe\", id=\"info1\", text=\"我名字叫做小度\")\n",
    "    await kernel.memory.save_information_async(\n",
    "        collection=\"aboutMe\", id=\"info2\", text=\"我工作在baidu\"\n",
    "    )\n",
    "    await kernel.memory.save_information_async(\n",
    "        collection=\"aboutMe\", id=\"info3\", text=\"我来自中国\"\n",
    "    )\n",
    "    await kernel.memory.save_information_async(\n",
    "        collection=\"aboutMe\",\n",
    "        id=\"info4\",\n",
    "        text=\"我曾去过北京，上海，深圳\",\n",
    "    )\n",
    "    await kernel.memory.save_information_async(collection=\"aboutMe\", id=\"info5\", text=\"我爱打羽毛球\")"
   ]
  },
  {
   "cell_type": "code",
   "execution_count": 5,
   "metadata": {},
   "outputs": [
    {
     "name": "stderr",
     "output_type": "stream",
     "text": [
      "[WARNING] [02-01 13:50:38] base.py:491 [t:8406866752]: This key `temperature` does not seem to be a parameter that the model `Embedding-V1` will accept\n",
      "[INFO] [02-01 13:50:38] openapi_requestor.py:166 [t:8406866752]: async requesting llm api endpoint: /embeddings/embedding-v1\n",
      "[WARNING] [02-01 13:50:39] base.py:491 [t:8406866752]: This key `temperature` does not seem to be a parameter that the model `Embedding-V1` will accept\n",
      "[INFO] [02-01 13:50:39] openapi_requestor.py:166 [t:8406866752]: async requesting llm api endpoint: /embeddings/embedding-v1\n",
      "[WARNING] [02-01 13:50:39] base.py:491 [t:8406866752]: This key `temperature` does not seem to be a parameter that the model `Embedding-V1` will accept\n",
      "[INFO] [02-01 13:50:39] openapi_requestor.py:166 [t:8406866752]: async requesting llm api endpoint: /embeddings/embedding-v1\n",
      "[WARNING] [02-01 13:50:39] base.py:491 [t:8406866752]: This key `temperature` does not seem to be a parameter that the model `Embedding-V1` will accept\n",
      "[INFO] [02-01 13:50:39] openapi_requestor.py:166 [t:8406866752]: async requesting llm api endpoint: /embeddings/embedding-v1\n",
      "[WARNING] [02-01 13:50:40] base.py:491 [t:8406866752]: This key `temperature` does not seem to be a parameter that the model `Embedding-V1` will accept\n",
      "[INFO] [02-01 13:50:40] openapi_requestor.py:166 [t:8406866752]: async requesting llm api endpoint: /embeddings/embedding-v1\n"
     ]
    }
   ],
   "source": [
    "await populate_memory(kernel)"
   ]
  },
  {
   "attachments": {},
   "cell_type": "markdown",
   "id": "2calf857",
   "metadata": {},
   "source": [
    "通过`TextMemoryBase`中实现的余弦相似度计算向量相似度可以search到对应相似的回答："
   ]
  },
  {
   "cell_type": "code",
   "execution_count": 6,
   "id": "628c843e",
   "metadata": {},
   "outputs": [],
   "source": [
    "async def search_memory_examples(kernel: sk.Kernel) -> None:\n",
    "    questions = [\n",
    "        \"我的名字是？\",\n",
    "        \"我在哪里工作？\",\n",
    "        \"我去过哪些地方旅游?\",\n",
    "        \"我的家乡是?\",\n",
    "        \"我的爱好是？\",\n",
    "    ]\n",
    "\n",
    "    for question in questions:\n",
    "        print(f\"Question: {question}\")\n",
    "        result = await kernel.memory.search_async(\"aboutMe\", question)\n",
    "        print(f\"Answer: {result[0].text}\\n\")"
   ]
  },
  {
   "cell_type": "code",
   "execution_count": 7,
   "metadata": {},
   "outputs": [
    {
     "name": "stderr",
     "output_type": "stream",
     "text": [
      "[WARNING] [02-01 13:40:18] base.py:491 [t:8406866752]: This key `temperature` does not seem to be a parameter that the model `Embedding-V1` will accept\n",
      "[INFO] [02-01 13:40:18] openapi_requestor.py:166 [t:8406866752]: async requesting llm api endpoint: /embeddings/embedding-v1\n"
     ]
    },
    {
     "name": "stdout",
     "output_type": "stream",
     "text": [
      "Question: 我的名字是？\n"
     ]
    },
    {
     "name": "stderr",
     "output_type": "stream",
     "text": [
      "[WARNING] [02-01 13:40:19] base.py:491 [t:8406866752]: This key `temperature` does not seem to be a parameter that the model `Embedding-V1` will accept\n",
      "[INFO] [02-01 13:40:19] openapi_requestor.py:166 [t:8406866752]: async requesting llm api endpoint: /embeddings/embedding-v1\n"
     ]
    },
    {
     "name": "stdout",
     "output_type": "stream",
     "text": [
      "Answer: 我名字叫做小度\n",
      "\n",
      "Question: 我在哪里工作？\n"
     ]
    },
    {
     "name": "stderr",
     "output_type": "stream",
     "text": [
      "[WARNING] [02-01 13:40:20] base.py:491 [t:8406866752]: This key `temperature` does not seem to be a parameter that the model `Embedding-V1` will accept\n",
      "[INFO] [02-01 13:40:20] openapi_requestor.py:166 [t:8406866752]: async requesting llm api endpoint: /embeddings/embedding-v1\n"
     ]
    },
    {
     "name": "stdout",
     "output_type": "stream",
     "text": [
      "Answer: 我工作在baidu\n",
      "\n",
      "Question: 我去过哪些地方旅游?\n"
     ]
    },
    {
     "name": "stderr",
     "output_type": "stream",
     "text": [
      "[WARNING] [02-01 13:40:20] base.py:491 [t:8406866752]: This key `temperature` does not seem to be a parameter that the model `Embedding-V1` will accept\n",
      "[INFO] [02-01 13:40:20] openapi_requestor.py:166 [t:8406866752]: async requesting llm api endpoint: /embeddings/embedding-v1\n"
     ]
    },
    {
     "name": "stdout",
     "output_type": "stream",
     "text": [
      "Answer: 我曾去过北京，上海，深圳\n",
      "\n",
      "Question: 我的家乡是?\n"
     ]
    },
    {
     "name": "stderr",
     "output_type": "stream",
     "text": [
      "[WARNING] [02-01 13:40:20] base.py:491 [t:8406866752]: This key `temperature` does not seem to be a parameter that the model `Embedding-V1` will accept\n",
      "[INFO] [02-01 13:40:20] openapi_requestor.py:166 [t:8406866752]: async requesting llm api endpoint: /embeddings/embedding-v1\n"
     ]
    },
    {
     "name": "stdout",
     "output_type": "stream",
     "text": [
      "Answer: 我来自中国\n",
      "\n",
      "Question: 我的爱好是？\n",
      "Answer: 我爱打羽毛球\n",
      "\n"
     ]
    }
   ],
   "source": [
    "await search_memory_examples(kernel)"
   ]
  },
  {
   "attachments": {},
   "cell_type": "markdown",
   "id": "e70c2b22",
   "metadata": {},
   "source": [
    "Let's now revisit the our chat sample from the [previous notebook](04-context-variables-chat.ipynb).\n",
    "If you remember, we used context variables to fill the prompt with a `history` that continuously got populated as we chatted with the bot. Let's add also memory to it!"
   ]
  },
  {
   "attachments": {},
   "cell_type": "markdown",
   "id": "1ed54a32",
   "metadata": {},
   "source": [
    "This is done by using the `TextMemorySkill` which exposes the `recall` native function.\n",
    "\n",
    "`recall` takes an input ask and performs a similarity search on the contents that have\n",
    "been embedded in the Memory Store and returns the most relevant memory. "
   ]
  },
  {
   "cell_type": "code",
   "execution_count": 13,
   "id": "fb8549b2",
   "metadata": {},
   "outputs": [],
   "source": [
    "from typing import Tuple\n",
    "async def setup_chat_with_memory(\n",
    "    kernel: sk.Kernel,\n",
    ") -> Tuple[sk.SKFunctionBase, sk.SKContext]:\n",
    "    sk_prompt = \"\"\"\n",
    "    你是一个人设分析师，你需要严格根据以下背景资料，以及历史聊天记录回答以下问题：\n",
    "    \n",
    "    背景资料：\n",
    "    - {{$fact1}} {{recall $fact1}}\n",
    "    - {{$fact2}} {{recall $fact2}}\n",
    "    - {{$fact3}} {{recall $fact3}}\n",
    "    - {{$fact4}} {{recall $fact4}}\n",
    "    - {{$fact5}} {{recall $fact5}}\n",
    "\n",
    "    聊天记录: {{$chat_history}}\n",
    "    回答:\n",
    "\n",
    "     \"\"\".strip()\n",
    "\n",
    "    chat_func = kernel.create_semantic_function(sk_prompt, temperature=0.8)\n",
    "\n",
    "    context = kernel.create_new_context()\n",
    "    context[\"fact1\"] = \"我的名字是？\"\n",
    "    context[\"fact2\"] = \"我在哪里工作？\"\n",
    "    context[\"fact3\"] = \"我去过哪些地方旅游?\"\n",
    "    context[\"fact4\"] = \"我的家乡是?\"\n",
    "    context[\"fact5\"] = \"我的爱好是？\"\n",
    "\n",
    "    context[sk.core_skills.TextMemorySkill.COLLECTION_PARAM] = \"aboutMe\"\n",
    "    context[sk.core_skills.TextMemorySkill.RELEVANCE_PARAM] = \"0.5\"\n",
    "\n",
    "    context[\"chat_history\"] = \"\"\n",
    "\n",
    "    return chat_func, context"
   ]
  },
  {
   "attachments": {},
   "cell_type": "markdown",
   "id": "1ac62457",
   "metadata": {},
   "source": [
    "The `RelevanceParam` is used in memory search and is a measure of the relevance score from 0.0 to 1.0, where 1.0 means a perfect match. We encourage users to experiment with different values."
   ]
  },
  {
   "attachments": {},
   "cell_type": "markdown",
   "id": "645b55a1",
   "metadata": {},
   "source": [
    "Now that we've included our memories, let's chat!"
   ]
  },
  {
   "cell_type": "code",
   "execution_count": 14,
   "id": "75267a2f",
   "metadata": {},
   "outputs": [],
   "source": [
    "async def chat(kernel: sk.Kernel, chat_func: sk.SKFunctionBase, context: sk.SKContext) -> bool:\n",
    "    try:\n",
    "        user_input = input(\"用户:> \")\n",
    "        context[\"user_input\"] = user_input\n",
    "        print(f\"User:> {user_input}\")\n",
    "    except KeyboardInterrupt:\n",
    "        print(\"\\n\\nExiting chat...\")\n",
    "        return False\n",
    "    except EOFError:\n",
    "        print(\"\\n\\nExiting chat...\")\n",
    "        return False\n",
    "\n",
    "    if user_input == \"exit\":\n",
    "        print(\"\\n\\nExiting chat...\")\n",
    "        return False\n",
    "\n",
    "    answer = await kernel.run_async(chat_func, input_vars=context.variables)\n",
    "    context[\"chat_history\"] += f\"\\n用户:> {user_input}\\n回答:> {answer}\\n\"\n",
    "\n",
    "    print(f\"ChatBot:> {answer}\")\n",
    "    return True"
   ]
  },
  {
   "cell_type": "code",
   "execution_count": 12,
   "id": "e3875a34",
   "metadata": {},
   "outputs": [
    {
     "name": "stderr",
     "output_type": "stream",
     "text": [
      "[WARNING] [02-01 13:55:41] base.py:491 [t:8406866752]: This key `temperature` does not seem to be a parameter that the model `Embedding-V1` will accept\n",
      "[INFO] [02-01 13:55:41] openapi_requestor.py:166 [t:8406866752]: async requesting llm api endpoint: /embeddings/embedding-v1\n"
     ]
    },
    {
     "name": "stdout",
     "output_type": "stream",
     "text": [
      "Populating memory...\n"
     ]
    },
    {
     "name": "stderr",
     "output_type": "stream",
     "text": [
      "[WARNING] [02-01 13:55:42] base.py:491 [t:8406866752]: This key `temperature` does not seem to be a parameter that the model `Embedding-V1` will accept\n",
      "[INFO] [02-01 13:55:42] openapi_requestor.py:166 [t:8406866752]: async requesting llm api endpoint: /embeddings/embedding-v1\n",
      "[WARNING] [02-01 13:55:42] base.py:491 [t:8406866752]: This key `temperature` does not seem to be a parameter that the model `Embedding-V1` will accept\n",
      "[INFO] [02-01 13:55:42] openapi_requestor.py:166 [t:8406866752]: async requesting llm api endpoint: /embeddings/embedding-v1\n",
      "[WARNING] [02-01 13:55:43] base.py:491 [t:8406866752]: This key `temperature` does not seem to be a parameter that the model `Embedding-V1` will accept\n",
      "[INFO] [02-01 13:55:43] openapi_requestor.py:166 [t:8406866752]: async requesting llm api endpoint: /embeddings/embedding-v1\n",
      "[WARNING] [02-01 13:55:43] base.py:491 [t:8406866752]: This key `temperature` does not seem to be a parameter that the model `Embedding-V1` will accept\n",
      "[INFO] [02-01 13:55:43] openapi_requestor.py:166 [t:8406866752]: async requesting llm api endpoint: /embeddings/embedding-v1\n",
      "[WARNING] [02-01 13:55:44] base.py:491 [t:8406866752]: This key `temperature` does not seem to be a parameter that the model `Embedding-V1` will accept\n",
      "[INFO] [02-01 13:55:44] openapi_requestor.py:166 [t:8406866752]: async requesting llm api endpoint: /embeddings/embedding-v1\n"
     ]
    },
    {
     "name": "stdout",
     "output_type": "stream",
     "text": [
      "Asking questions... (manually)\n",
      "Question: 我的名字是？\n"
     ]
    },
    {
     "name": "stderr",
     "output_type": "stream",
     "text": [
      "[WARNING] [02-01 13:55:44] base.py:491 [t:8406866752]: This key `temperature` does not seem to be a parameter that the model `Embedding-V1` will accept\n",
      "[INFO] [02-01 13:55:44] openapi_requestor.py:166 [t:8406866752]: async requesting llm api endpoint: /embeddings/embedding-v1\n"
     ]
    },
    {
     "name": "stdout",
     "output_type": "stream",
     "text": [
      "Answer: 我名字叫做小度\n",
      "\n",
      "Question: 我在哪里工作？\n"
     ]
    },
    {
     "name": "stderr",
     "output_type": "stream",
     "text": [
      "[WARNING] [02-01 13:55:45] base.py:491 [t:8406866752]: This key `temperature` does not seem to be a parameter that the model `Embedding-V1` will accept\n",
      "[INFO] [02-01 13:55:45] openapi_requestor.py:166 [t:8406866752]: async requesting llm api endpoint: /embeddings/embedding-v1\n"
     ]
    },
    {
     "name": "stdout",
     "output_type": "stream",
     "text": [
      "Answer: 我工作在baidu\n",
      "\n",
      "Question: 我去过哪些地方旅游?\n"
     ]
    },
    {
     "name": "stderr",
     "output_type": "stream",
     "text": [
      "[WARNING] [02-01 13:55:45] base.py:491 [t:8406866752]: This key `temperature` does not seem to be a parameter that the model `Embedding-V1` will accept\n",
      "[INFO] [02-01 13:55:45] openapi_requestor.py:166 [t:8406866752]: async requesting llm api endpoint: /embeddings/embedding-v1\n"
     ]
    },
    {
     "name": "stdout",
     "output_type": "stream",
     "text": [
      "Answer: 我曾去过北京，上海，深圳\n",
      "\n",
      "Question: 我的家乡是?\n"
     ]
    },
    {
     "name": "stderr",
     "output_type": "stream",
     "text": [
      "[WARNING] [02-01 13:55:46] base.py:491 [t:8406866752]: This key `temperature` does not seem to be a parameter that the model `Embedding-V1` will accept\n",
      "[INFO] [02-01 13:55:46] openapi_requestor.py:166 [t:8406866752]: async requesting llm api endpoint: /embeddings/embedding-v1\n"
     ]
    },
    {
     "name": "stdout",
     "output_type": "stream",
     "text": [
      "Answer: 我来自中国\n",
      "\n",
      "Question: 我的爱好是？\n",
      "Answer: 我爱打羽毛球\n",
      "\n",
      "Setting up a chat (with memory!)\n",
      "Begin chatting (type 'exit' to exit):\n",
      "\n"
     ]
    },
    {
     "name": "stderr",
     "output_type": "stream",
     "text": [
      "[WARNING] [02-01 13:56:03] base.py:491 [t:8406866752]: This key `temperature` does not seem to be a parameter that the model `Embedding-V1` will accept\n",
      "[INFO] [02-01 13:56:03] openapi_requestor.py:166 [t:8406866752]: async requesting llm api endpoint: /embeddings/embedding-v1\n"
     ]
    },
    {
     "name": "stdout",
     "output_type": "stream",
     "text": [
      "User:> hi你好？\n"
     ]
    },
    {
     "name": "stderr",
     "output_type": "stream",
     "text": [
      "[WARNING] [02-01 13:56:03] base.py:491 [t:8406866752]: This key `temperature` does not seem to be a parameter that the model `Embedding-V1` will accept\n",
      "[INFO] [02-01 13:56:03] openapi_requestor.py:166 [t:8406866752]: async requesting llm api endpoint: /embeddings/embedding-v1\n",
      "[WARNING] [02-01 13:56:04] base.py:491 [t:8406866752]: This key `temperature` does not seem to be a parameter that the model `Embedding-V1` will accept\n",
      "[INFO] [02-01 13:56:04] openapi_requestor.py:166 [t:8406866752]: async requesting llm api endpoint: /embeddings/embedding-v1\n",
      "Memory not found in collection: aboutMe\n",
      "[WARNING] [02-01 13:56:04] base.py:491 [t:8406866752]: This key `temperature` does not seem to be a parameter that the model `Embedding-V1` will accept\n",
      "[INFO] [02-01 13:56:04] openapi_requestor.py:166 [t:8406866752]: async requesting llm api endpoint: /embeddings/embedding-v1\n",
      "Memory not found in collection: aboutMe\n",
      "[WARNING] [02-01 13:56:05] base.py:491 [t:8406866752]: This key `temperature` does not seem to be a parameter that the model `Embedding-V1` will accept\n",
      "[INFO] [02-01 13:56:05] openapi_requestor.py:166 [t:8406866752]: async requesting llm api endpoint: /embeddings/embedding-v1\n",
      "Memory not found in collection: aboutMe\n",
      "Variable `$chat_history` not found\n",
      "[INFO] [02-01 13:56:05] openapi_requestor.py:166 [t:8406866752]: async requesting llm api endpoint: /chat/eb-instant\n"
     ]
    },
    {
     "name": "stdout",
     "output_type": "stream",
     "text": [
      "ChatBot:> 您好，根据您的背景资料，您是来自百度的一位人设分析师。您的工作地点在百度，具体的工作内容可能涉及到用户的人设分析。您目前没有提及您曾经去过哪些地方旅游，家乡和爱好等信息。如果您愿意分享这些信息，我会尽力回答您的问题。\n",
      "User:> exit\n",
      "\n",
      "\n",
      "Exiting chat...\n"
     ]
    }
   ],
   "source": [
    "print(\"Populating memory...\")\n",
    "await populate_memory(kernel)\n",
    "\n",
    "print(\"Asking questions... (manually)\")\n",
    "await search_memory_examples(kernel)\n",
    "\n",
    "print(\"Setting up a chat (with memory!)\")\n",
    "chat_func, context = await setup_chat_with_memory(kernel)\n",
    "\n",
    "print(\"Begin chatting (type 'exit' to exit):\\n\")\n",
    "chatting = True\n",
    "while chatting:\n",
    "    chatting = await chat(kernel, chat_func, context)"
   ]
  },
  {
   "attachments": {},
   "cell_type": "markdown",
   "id": "0a51542b",
   "metadata": {},
   "source": [
    "### 添加文档到Memory中\n",
    "\n",
    "很多时候，我们有大量的外部知识库，接下来我们将使用SK的`VolatileMemoryStore`以用于加载外部知识文档：\n",
    "例如我们添加千帆SDK的repo："
   ]
  },
  {
   "cell_type": "code",
   "execution_count": 11,
   "id": "c3d5a1b9",
   "metadata": {},
   "outputs": [],
   "source": [
    "github_files = {\n",
    "    \"https://github.com/baidubce/bce-qianfan-sdk/blob/main/README.md\": \"README: 千帆SDK介绍，安装，基础使用方法\",\n",
    "    \"https://github.com/baidubce/bce-qianfan-sdk/blob/main/cookbook/finetune/trainer_finetune.ipynb\": \"Cookbook: 千帆SDK Trainer使用方法\"\n",
    "}"
   ]
  },
  {
   "attachments": {},
   "cell_type": "markdown",
   "id": "75f3ea5e",
   "metadata": {},
   "source": [
    "Now let's add these files to our VolatileMemoryStore using `SaveReferenceAsync`. We'll separate these memories from the chat memories by putting them in a different collection."
   ]
  },
  {
   "cell_type": "code",
   "execution_count": 12,
   "id": "170e7142",
   "metadata": {},
   "outputs": [
    {
     "name": "stderr",
     "output_type": "stream",
     "text": [
      "[WARNING] [02-01 13:41:11] base.py:491 [t:8406866752]: This key `temperature` does not seem to be a parameter that the model `Embedding-V1` will accept\n",
      "[INFO] [02-01 13:41:11] openapi_requestor.py:166 [t:8406866752]: async requesting llm api endpoint: /embeddings/embedding-v1\n",
      "[WARNING] [02-01 13:41:11] base.py:491 [t:8406866752]: This key `temperature` does not seem to be a parameter that the model `Embedding-V1` will accept\n",
      "[INFO] [02-01 13:41:11] openapi_requestor.py:166 [t:8406866752]: async requesting llm api endpoint: /embeddings/embedding-v1\n"
     ]
    },
    {
     "name": "stdout",
     "output_type": "stream",
     "text": [
      "  已添加 1 saved\n",
      "  已添加 2 saved\n"
     ]
    }
   ],
   "source": [
    "memory_collection_name = \"QianfanGithub\"\n",
    "i = 0\n",
    "for entry, value in github_files.items():\n",
    "    await kernel.memory.save_reference_async(\n",
    "        collection=memory_collection_name,\n",
    "        description=value,\n",
    "        text=value,\n",
    "        external_id=entry,\n",
    "        external_source_name=\"GitHub\",\n",
    "    )\n",
    "    i += 1\n",
    "    print(\"  已添加 {} saved\".format(i))"
   ]
  },
  {
   "cell_type": "code",
   "execution_count": 20,
   "id": "143911c3",
   "metadata": {},
   "outputs": [
    {
     "name": "stderr",
     "output_type": "stream",
     "text": [
      "[WARNING] [02-01 13:42:12] base.py:491 [t:8406866752]: This key `temperature` does not seem to be a parameter that the model `Embedding-V1` will accept\n",
      "[INFO] [02-01 13:42:12] openapi_requestor.py:166 [t:8406866752]: async requesting llm api endpoint: /embeddings/embedding-v1\n"
     ]
    },
    {
     "name": "stdout",
     "output_type": "stream",
     "text": [
      "===========================\n",
      "Query: 我希望整体了解千帆SDK，有什么办法？\n",
      "\n",
      "Result 1:\n",
      "  URL:     : https://github.com/baidubce/bce-qianfan-sdk/blob/main/README.md\n",
      "  Title    : README: 千帆SDK介绍，安装，基础使用方法\n",
      "  Relevance: 0.7502846678234273\n",
      "\n"
     ]
    }
   ],
   "source": [
    "ask = \"我希望整体了解千帆SDK，有什么办法？\"\n",
    "print(\"===========================\\n\" + \"Query: \" + ask + \"\\n\")\n",
    "\n",
    "results = await kernel.memory.search_async(memory_collection_name, ask, limit=5, min_relevance_score=0.7)\n",
    "\n",
    "i = 0\n",
    "for res in results:\n",
    "    i += 1\n",
    "    print(f\"Result {i}:\")\n",
    "    print(\"  URL:     : \" + res.id)\n",
    "    print(\"  Title    : \" + res.description)\n",
    "    print(\"  Relevance: \" + str(res.relevance))\n",
    "    print()"
   ]
  },
  {
   "cell_type": "markdown",
   "id": "3d43cdc1",
   "metadata": {},
   "source": [
    "使用返回的文档进行"
   ]
  },
  {
   "attachments": {},
   "cell_type": "markdown",
   "id": "59294dac",
   "metadata": {},
   "source": [
    "除了VolatileMemory之外，我们还可以通过对接外部向量库的形式实现大量的外部知识库，SK官方提供常用的例如`chroma`,`pinecone`等实现。通过直接替换memory_store可以实现kernel和chroma的对接："
   ]
  },
  {
   "cell_type": "code",
   "execution_count": 21,
   "metadata": {},
   "outputs": [],
   "source": [
    "from semantic_kernel.connectors.memory.chroma import (\n",
    "    ChromaMemoryStore,\n",
    ")\n",
    "\n",
    "kernel.register_memory_store(\n",
    "    memory_store=ChromaMemoryStore(\n",
    "        persist_directory=\"./\"\n",
    "    )\n",
    ")"
   ]
  },
  {
   "cell_type": "code",
   "execution_count": 22,
   "metadata": {},
   "outputs": [
    {
     "name": "stderr",
     "output_type": "stream",
     "text": [
      "[WARNING] [02-01 13:42:23] base.py:491 [t:8406866752]: This key `temperature` does not seem to be a parameter that the model `Embedding-V1` will accept\n",
      "[INFO] [02-01 13:42:23] openapi_requestor.py:166 [t:8406866752]: async requesting llm api endpoint: /embeddings/embedding-v1\n",
      "Insert of existing embedding ID: info1\n",
      "Add of existing embedding ID: info1\n",
      "[WARNING] [02-01 13:42:23] base.py:491 [t:8406866752]: This key `temperature` does not seem to be a parameter that the model `Embedding-V1` will accept\n",
      "[INFO] [02-01 13:42:23] openapi_requestor.py:166 [t:8406866752]: async requesting llm api endpoint: /embeddings/embedding-v1\n",
      "Insert of existing embedding ID: info2\n",
      "Add of existing embedding ID: info2\n",
      "[WARNING] [02-01 13:42:24] base.py:491 [t:8406866752]: This key `temperature` does not seem to be a parameter that the model `Embedding-V1` will accept\n",
      "[INFO] [02-01 13:42:24] openapi_requestor.py:166 [t:8406866752]: async requesting llm api endpoint: /embeddings/embedding-v1\n",
      "Insert of existing embedding ID: info3\n",
      "Add of existing embedding ID: info3\n",
      "[WARNING] [02-01 13:42:24] base.py:491 [t:8406866752]: This key `temperature` does not seem to be a parameter that the model `Embedding-V1` will accept\n",
      "[INFO] [02-01 13:42:24] openapi_requestor.py:166 [t:8406866752]: async requesting llm api endpoint: /embeddings/embedding-v1\n",
      "Insert of existing embedding ID: info4\n",
      "Add of existing embedding ID: info4\n",
      "[WARNING] [02-01 13:42:25] base.py:491 [t:8406866752]: This key `temperature` does not seem to be a parameter that the model `Embedding-V1` will accept\n",
      "[INFO] [02-01 13:42:25] openapi_requestor.py:166 [t:8406866752]: async requesting llm api endpoint: /embeddings/embedding-v1\n",
      "Insert of existing embedding ID: info5\n",
      "Add of existing embedding ID: info5\n"
     ]
    }
   ],
   "source": [
    "await populate_memory(kernel)"
   ]
  },
  {
   "cell_type": "code",
   "execution_count": 23,
   "metadata": {},
   "outputs": [
    {
     "name": "stderr",
     "output_type": "stream",
     "text": [
      "[WARNING] [02-01 13:42:26] base.py:491 [t:8406866752]: This key `temperature` does not seem to be a parameter that the model `Embedding-V1` will accept\n",
      "[INFO] [02-01 13:42:26] openapi_requestor.py:166 [t:8406866752]: async requesting llm api endpoint: /embeddings/embedding-v1\n"
     ]
    },
    {
     "name": "stdout",
     "output_type": "stream",
     "text": [
      "Question: 我的名字是？\n"
     ]
    },
    {
     "name": "stderr",
     "output_type": "stream",
     "text": [
      "Chroma returns distance score not cosine similarity score.                So embeddings are automatically queried from database for calculation.\n",
      "[WARNING] [02-01 13:42:27] base.py:491 [t:8406866752]: This key `temperature` does not seem to be a parameter that the model `Embedding-V1` will accept\n",
      "[INFO] [02-01 13:42:27] openapi_requestor.py:166 [t:8406866752]: async requesting llm api endpoint: /embeddings/embedding-v1\n"
     ]
    },
    {
     "name": "stdout",
     "output_type": "stream",
     "text": [
      "Answer: 我名字叫做小度\n",
      "\n",
      "Question: 我在哪里工作？\n"
     ]
    },
    {
     "name": "stderr",
     "output_type": "stream",
     "text": [
      "Chroma returns distance score not cosine similarity score.                So embeddings are automatically queried from database for calculation.\n",
      "[WARNING] [02-01 13:42:27] base.py:491 [t:8406866752]: This key `temperature` does not seem to be a parameter that the model `Embedding-V1` will accept\n",
      "[INFO] [02-01 13:42:27] openapi_requestor.py:166 [t:8406866752]: async requesting llm api endpoint: /embeddings/embedding-v1\n"
     ]
    },
    {
     "name": "stdout",
     "output_type": "stream",
     "text": [
      "Answer: 我工作在baidu\n",
      "\n",
      "Question: 我去过哪些地方旅游?\n"
     ]
    },
    {
     "name": "stderr",
     "output_type": "stream",
     "text": [
      "Chroma returns distance score not cosine similarity score.                So embeddings are automatically queried from database for calculation.\n",
      "[WARNING] [02-01 13:42:28] base.py:491 [t:8406866752]: This key `temperature` does not seem to be a parameter that the model `Embedding-V1` will accept\n",
      "[INFO] [02-01 13:42:28] openapi_requestor.py:166 [t:8406866752]: async requesting llm api endpoint: /embeddings/embedding-v1\n"
     ]
    },
    {
     "name": "stdout",
     "output_type": "stream",
     "text": [
      "Answer: 我曾去过北京，上海，深圳\n",
      "\n",
      "Question: 我的家乡是?\n"
     ]
    },
    {
     "name": "stderr",
     "output_type": "stream",
     "text": [
      "Chroma returns distance score not cosine similarity score.                So embeddings are automatically queried from database for calculation.\n",
      "[WARNING] [02-01 13:42:28] base.py:491 [t:8406866752]: This key `temperature` does not seem to be a parameter that the model `Embedding-V1` will accept\n",
      "[INFO] [02-01 13:42:28] openapi_requestor.py:166 [t:8406866752]: async requesting llm api endpoint: /embeddings/embedding-v1\n"
     ]
    },
    {
     "name": "stdout",
     "output_type": "stream",
     "text": [
      "Answer: 我来自中国\n",
      "\n",
      "Question: 我的爱好是？\n"
     ]
    },
    {
     "name": "stderr",
     "output_type": "stream",
     "text": [
      "Chroma returns distance score not cosine similarity score.                So embeddings are automatically queried from database for calculation.\n"
     ]
    },
    {
     "name": "stdout",
     "output_type": "stream",
     "text": [
      "Answer: 我爱打羽毛球\n",
      "\n"
     ]
    }
   ],
   "source": [
    "await search_memory_examples(kernel)"
   ]
  }
 ],
 "metadata": {
  "kernelspec": {
   "display_name": "base",
   "language": "python",
   "name": "python3"
  },
  "language_info": {
   "codemirror_mode": {
    "name": "ipython",
    "version": 3
   },
   "file_extension": ".py",
   "mimetype": "text/x-python",
   "name": "python",
   "nbconvert_exporter": "python",
   "pygments_lexer": "ipython3",
   "version": "3.11.5"
  },
  "vscode": {
   "interpreter": {
    "hash": "58f7cb64c3a06383b7f18d2a11305edccbad427293a2b4afa7abe8bfc810d4bb"
   }
  }
 },
 "nbformat": 4,
 "nbformat_minor": 5
}
