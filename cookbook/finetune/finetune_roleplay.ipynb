{
 "cells": [
  {
   "cell_type": "markdown",
   "metadata": {},
   "source": [
    "# 微调模型实现角色扮演对话\n",
    "本文将演示如何通过模型微调，满足生成小说人物风格对话的功能。\n",
    "\n",
    "本文数据集来自[CharacterEval: A Chinese Benchmark for Role-Playing Conversational Agent Evaluation](https://github.com/morecry/CharacterEval?tab=readme-ov-file)。处理后的数据集已经上传至千帆平台作为预置数据集，可以直接使用。\n",
    "\n",
    "本例将基于qianfan==0.3.7展示原始数据处理，加载微调数据集并上传到千帆平台，基于ERNIE-Speed进行fine-tune，多模型比对进行模型评估。"
   ]
  },
  {
   "cell_type": "code",
   "execution_count": 15,
   "metadata": {
    "ExecuteTime": {
     "end_time": "2024-04-02T08:36:11.285050Z",
     "start_time": "2024-04-02T08:36:07.406103Z"
    }
   },
   "outputs": [
    {
     "name": "stdout",
     "output_type": "stream",
     "text": [
      "Requirement already satisfied: qianfan[dataset_base]>=0.3.7 in /Users/guoweiming/opt/anaconda3/lib/python3.9/site-packages (0.3.7)\r\n",
      "\u001B[33mWARNING: qianfan 0.3.7 does not provide the extra 'dataset_base'\u001B[0m\u001B[33m\r\n",
      "\u001B[0mRequirement already satisfied: aiolimiter>=1.1.0 in /Users/guoweiming/opt/anaconda3/lib/python3.9/site-packages (from qianfan[dataset_base]>=0.3.7) (1.1.0)\r\n",
      "Requirement already satisfied: pyyaml<7.0.0,>=6.0.1 in /Users/guoweiming/opt/anaconda3/lib/python3.9/site-packages (from qianfan[dataset_base]>=0.3.7) (6.0.1)\r\n",
      "Requirement already satisfied: pydantic in /Users/guoweiming/opt/anaconda3/lib/python3.9/site-packages (from qianfan[dataset_base]>=0.3.7) (2.6.4)\r\n",
      "Requirement already satisfied: diskcache<6.0.0,>=5.6.3 in /Users/guoweiming/opt/anaconda3/lib/python3.9/site-packages (from qianfan[dataset_base]>=0.3.7) (5.6.3)\r\n",
      "Requirement already satisfied: python-dotenv>=1.0 in /Users/guoweiming/opt/anaconda3/lib/python3.9/site-packages (from qianfan[dataset_base]>=0.3.7) (1.0.1)\r\n",
      "Requirement already satisfied: rich>=13.0.0 in /Users/guoweiming/opt/anaconda3/lib/python3.9/site-packages (from qianfan[dataset_base]>=0.3.7) (13.7.1)\r\n",
      "Requirement already satisfied: requests>=2.24 in /Users/guoweiming/opt/anaconda3/lib/python3.9/site-packages (from qianfan[dataset_base]>=0.3.7) (2.31.0)\r\n",
      "Requirement already satisfied: typer>=0.9.0 in /Users/guoweiming/opt/anaconda3/lib/python3.9/site-packages (from qianfan[dataset_base]>=0.3.7) (0.11.0)\r\n",
      "Requirement already satisfied: aiohttp>=3.7.0 in /Users/guoweiming/opt/anaconda3/lib/python3.9/site-packages (from qianfan[dataset_base]>=0.3.7) (3.9.3)\r\n",
      "Requirement already satisfied: multiprocess in /Users/guoweiming/opt/anaconda3/lib/python3.9/site-packages (from qianfan[dataset_base]>=0.3.7) (0.70.16)\r\n",
      "Requirement already satisfied: tenacity<9.0.0,>=8.2.3 in /Users/guoweiming/opt/anaconda3/lib/python3.9/site-packages (from qianfan[dataset_base]>=0.3.7) (8.2.3)\r\n",
      "Requirement already satisfied: bce-python-sdk>=0.8.79 in /Users/guoweiming/opt/anaconda3/lib/python3.9/site-packages (from qianfan[dataset_base]>=0.3.7) (0.9.6)\r\n",
      "Requirement already satisfied: typing-extensions>=4.0.0 in /Users/guoweiming/opt/anaconda3/lib/python3.9/site-packages (from qianfan[dataset_base]>=0.3.7) (4.10.0)\r\n",
      "Requirement already satisfied: prompt-toolkit>=3.0.38 in /Users/guoweiming/opt/anaconda3/lib/python3.9/site-packages (from qianfan[dataset_base]>=0.3.7) (3.0.43)\r\n",
      "Requirement already satisfied: async-timeout<5.0,>=4.0 in /Users/guoweiming/opt/anaconda3/lib/python3.9/site-packages (from aiohttp>=3.7.0->qianfan[dataset_base]>=0.3.7) (4.0.3)\r\n",
      "Requirement already satisfied: attrs>=17.3.0 in /Users/guoweiming/opt/anaconda3/lib/python3.9/site-packages (from aiohttp>=3.7.0->qianfan[dataset_base]>=0.3.7) (23.2.0)\r\n",
      "Requirement already satisfied: multidict<7.0,>=4.5 in /Users/guoweiming/opt/anaconda3/lib/python3.9/site-packages (from aiohttp>=3.7.0->qianfan[dataset_base]>=0.3.7) (6.0.5)\r\n",
      "Requirement already satisfied: aiosignal>=1.1.2 in /Users/guoweiming/opt/anaconda3/lib/python3.9/site-packages (from aiohttp>=3.7.0->qianfan[dataset_base]>=0.3.7) (1.3.1)\r\n",
      "Requirement already satisfied: yarl<2.0,>=1.0 in /Users/guoweiming/opt/anaconda3/lib/python3.9/site-packages (from aiohttp>=3.7.0->qianfan[dataset_base]>=0.3.7) (1.9.4)\r\n",
      "Requirement already satisfied: frozenlist>=1.1.1 in /Users/guoweiming/opt/anaconda3/lib/python3.9/site-packages (from aiohttp>=3.7.0->qianfan[dataset_base]>=0.3.7) (1.4.1)\r\n",
      "Requirement already satisfied: future>=0.6.0 in /Users/guoweiming/opt/anaconda3/lib/python3.9/site-packages (from bce-python-sdk>=0.8.79->qianfan[dataset_base]>=0.3.7) (1.0.0)\r\n",
      "Requirement already satisfied: pycryptodome>=3.8.0 in /Users/guoweiming/opt/anaconda3/lib/python3.9/site-packages (from bce-python-sdk>=0.8.79->qianfan[dataset_base]>=0.3.7) (3.20.0)\r\n",
      "Requirement already satisfied: six>=1.4.0 in /Users/guoweiming/opt/anaconda3/lib/python3.9/site-packages (from bce-python-sdk>=0.8.79->qianfan[dataset_base]>=0.3.7) (1.16.0)\r\n",
      "Requirement already satisfied: wcwidth in /Users/guoweiming/opt/anaconda3/lib/python3.9/site-packages (from prompt-toolkit>=3.0.38->qianfan[dataset_base]>=0.3.7) (0.2.13)\r\n",
      "Requirement already satisfied: certifi>=2017.4.17 in /Users/guoweiming/opt/anaconda3/lib/python3.9/site-packages (from requests>=2.24->qianfan[dataset_base]>=0.3.7) (2024.2.2)\r\n",
      "Requirement already satisfied: charset-normalizer<4,>=2 in /Users/guoweiming/opt/anaconda3/lib/python3.9/site-packages (from requests>=2.24->qianfan[dataset_base]>=0.3.7) (3.3.2)\r\n",
      "Requirement already satisfied: idna<4,>=2.5 in /Users/guoweiming/opt/anaconda3/lib/python3.9/site-packages (from requests>=2.24->qianfan[dataset_base]>=0.3.7) (3.6)\r\n",
      "Requirement already satisfied: urllib3<3,>=1.21.1 in /Users/guoweiming/opt/anaconda3/lib/python3.9/site-packages (from requests>=2.24->qianfan[dataset_base]>=0.3.7) (2.2.1)\r\n",
      "Requirement already satisfied: markdown-it-py>=2.2.0 in /Users/guoweiming/opt/anaconda3/lib/python3.9/site-packages (from rich>=13.0.0->qianfan[dataset_base]>=0.3.7) (3.0.0)\r\n",
      "Requirement already satisfied: pygments<3.0.0,>=2.13.0 in /Users/guoweiming/opt/anaconda3/lib/python3.9/site-packages (from rich>=13.0.0->qianfan[dataset_base]>=0.3.7) (2.17.2)\r\n",
      "Requirement already satisfied: click>=8.0.0 in /Users/guoweiming/opt/anaconda3/lib/python3.9/site-packages (from typer>=0.9.0->qianfan[dataset_base]>=0.3.7) (8.1.7)\r\n",
      "Requirement already satisfied: dill>=0.3.8 in /Users/guoweiming/opt/anaconda3/lib/python3.9/site-packages (from multiprocess->qianfan[dataset_base]>=0.3.7) (0.3.8)\r\n",
      "Requirement already satisfied: pydantic-core==2.16.3 in /Users/guoweiming/opt/anaconda3/lib/python3.9/site-packages (from pydantic->qianfan[dataset_base]>=0.3.7) (2.16.3)\r\n",
      "Requirement already satisfied: annotated-types>=0.4.0 in /Users/guoweiming/opt/anaconda3/lib/python3.9/site-packages (from pydantic->qianfan[dataset_base]>=0.3.7) (0.6.0)\r\n",
      "Requirement already satisfied: mdurl~=0.1 in /Users/guoweiming/opt/anaconda3/lib/python3.9/site-packages (from markdown-it-py>=2.2.0->rich>=13.0.0->qianfan[dataset_base]>=0.3.7) (0.1.2)\r\n"
     ]
    }
   ],
   "source": [
    "! pip install \"qianfan[dataset_base]>=0.3.7\" -U"
   ]
  },
  {
   "cell_type": "code",
   "execution_count": 16,
   "metadata": {
    "ExecuteTime": {
     "end_time": "2024-04-02T08:36:11.290450Z",
     "start_time": "2024-04-02T08:36:11.286452Z"
    }
   },
   "outputs": [
    {
     "name": "stdout",
     "output_type": "stream",
     "text": [
      "0.3.7\n"
     ]
    }
   ],
   "source": [
    "import qianfan\n",
    "print(qianfan.__version__)"
   ]
  },
  {
   "cell_type": "markdown",
   "metadata": {},
   "source": [
    "## 前置准备\n",
    "- 初始化千帆安全认证AK、SK"
   ]
  },
  {
   "cell_type": "code",
   "execution_count": 17,
   "metadata": {
    "ExecuteTime": {
     "end_time": "2024-04-02T08:36:11.291957Z",
     "start_time": "2024-04-02T08:36:11.290069Z"
    }
   },
   "outputs": [],
   "source": [
    "import os\n",
    "\n",
    "os.environ[\"QIANFAN_ACCESS_KEY\"] = \"your_ak\"\n",
    "os.environ[\"QIANFAN_SECRET_KEY\"] = \"your_sk\""
   ]
  },
  {
   "cell_type": "code",
   "execution_count": 18,
   "metadata": {
    "ExecuteTime": {
     "end_time": "2024-04-02T08:36:11.296993Z",
     "start_time": "2024-04-02T08:36:11.293865Z"
    }
   },
   "outputs": [],
   "source": [
    "from qianfan.utils import enable_log\n",
    "import logging\n",
    "\n",
    "enable_log(logging.INFO)"
   ]
  },
  {
   "cell_type": "markdown",
   "source": [
    "## 数据集处理与分析\n",
    "\n",
    "首先读取一下人物基础信息，并统计角色分布数量"
   ],
   "metadata": {
    "collapsed": false
   }
  },
  {
   "cell_type": "code",
   "outputs": [],
   "source": [
    "import json\n",
    "profiles = {}\n",
    "with open(\"./data/character_profiles.json\", \"r\") as f:\n",
    "    profiles_json = json.load(f)\n",
    "    profiles.update({name: str(json_dict) for name, json_dict in profiles_json.items()})\n",
    "    \n",
    "role_cnt = {}\n",
    "role_dialogs = {}\n",
    "with open(\"./data/character_dialogs.json\", \"r\") as f:\n",
    "    dialogs = json.load(f)\n",
    "    for dialog in dialogs:\n",
    "        role = dialog['role']\n",
    "        role_cnt[role] = role_cnt.get(role, 0) + 1\n",
    "        role_dialogs[role] = role_dialogs.get(role, []) + [dialog['id']]"
   ],
   "metadata": {
    "collapsed": false,
    "ExecuteTime": {
     "end_time": "2024-04-02T08:36:11.331090Z",
     "start_time": "2024-04-02T08:36:11.298001Z"
    }
   },
   "execution_count": 19
  },
  {
   "cell_type": "markdown",
   "source": [
    "对统计的数据进行分析"
   ],
   "metadata": {
    "collapsed": false
   }
  },
  {
   "cell_type": "code",
   "outputs": [
    {
     "name": "stdout",
     "output_type": "stream",
     "text": [
      "       佟湘玉  白展堂  郭芙蓉  吕子乔  曾小贤\n",
      "count  110  104  103  102  102\n",
      "       紫萱  美杜莎女王  唐宛如  顾源  南湘\n",
      "count  13     11    5   5   3\n"
     ]
    },
    {
     "data": {
      "text/plain": "<Figure size 1400x400 with 1 Axes>",
      "image/png": "[encoded data removed]"
     },
     "metadata": {},
     "output_type": "display_data"
    }
   ],
   "source": [
    "import pandas as pd\n",
    "import matplotlib as plt\n",
    "\n",
    "plt.rcParams['font.sans-serif'] = ['SimHei'] # 中文显示\n",
    "plt.rcParams['font.sans-serif'] = ['Arial Unicode MS'] # macOS下中文显示\n",
    "\n",
    "df = pd.DataFrame.from_dict(role_cnt, orient='index', columns=['count'])\n",
    "df.sort_values(by='count', ascending=False, inplace=True)\n",
    "df.plot(kind='bar', figsize=(14, 4))\n",
    "print(df.head(5).T)\n",
    "print(df.tail(5).T)"
   ],
   "metadata": {
    "collapsed": false,
    "ExecuteTime": {
     "end_time": "2024-04-02T08:36:12.248158Z",
     "start_time": "2024-04-02T08:36:11.324440Z"
    }
   },
   "execution_count": 20
  },
  {
   "cell_type": "markdown",
   "source": [
    "从统计图中可见，数据集角色分布不均匀，因此需要采用系统抽样方法划分评估集"
   ],
   "metadata": {
    "collapsed": false
   }
  },
  {
   "cell_type": "code",
   "outputs": [],
   "source": [
    "eval_id_lst = []\n",
    "sample_dict = {  # 抽取9个角色，每个角色的对话抽取数量如下\n",
    "    \"白展堂\":5,\n",
    "    \"朱朝阳\" : 5,\n",
    "    \"高启强\": 5,\n",
    "    \"龙葵\": 5,\n",
    "    \"李云龙\": 5,\n",
    "    \"美杜莎女王\": 11,\n",
    "    \"顾源\": 5,\n",
    "    \"唐宛如\": 5,\n",
    "    \"南湘\": 3,\n",
    "}\n",
    "for role, count in sample_dict.items():\n",
    "    eval_id_lst.extend(role_dialogs[role][:count])"
   ],
   "metadata": {
    "collapsed": false,
    "ExecuteTime": {
     "end_time": "2024-04-02T08:36:12.248842Z",
     "start_time": "2024-04-02T08:36:12.222638Z"
    }
   },
   "execution_count": 21
  },
  {
   "cell_type": "markdown",
   "source": [
    "封装函数将json数据集处理为datasets的格式"
   ],
   "metadata": {
    "collapsed": false
   }
  },
  {
   "cell_type": "code",
   "outputs": [],
   "source": [
    "def get_prompts(dialog):  # 数据处理具体实现\n",
    "    global profiles, role_stat\n",
    "    \n",
    "    role = dialog[\"role\"]\n",
    "    dialog_lists = [\n",
    "        f\"{profiles[role]}\\n现在请你扮演一个角色扮演专家。请你根据上述信息扮演{role}进行对话。\",\n",
    "        f'好的！现在我来扮演{role}。'\n",
    "    ]\n",
    "    first_resp = True\n",
    "    for dialog_context in dialog[\"context\"].split(\"\\n\"):\n",
    "        if first_resp:\n",
    "            first_resp = False\n",
    "            if dialog_context.startswith(role):\n",
    "                assert isinstance(dialog_context, str)\n",
    "                dialog_lists[1] = f'{dialog_lists[1]}我首先发话{dialog_context.replace(role, \"\")}'\n",
    "                continue\n",
    "        dialog_lists.append(dialog_context)\n",
    "    if len(dialog_lists) % 2 != 0:\n",
    "        # 有时候对话列表长度是奇数，补一个空字符串作为回答，也可以删除或者用llm补全\n",
    "        dialog_lists.append(\"\")\n",
    "        \n",
    "    dialog_prompts = []\n",
    "    for prompt, response in zip(dialog_lists[::2], dialog_lists[1::2]):\n",
    "        # 借助datasets的group功能，将对话按照id分组，后续用pack方法可以方便地打包成对话列表\n",
    "        dialog_prompts.append({\"prompt\": prompt, \"response\": response, \"_group\": dialog[\"id\"]})\n",
    "    return dialog_prompts"
   ],
   "metadata": {
    "collapsed": false,
    "ExecuteTime": {
     "end_time": "2024-04-02T08:36:12.249241Z",
     "start_time": "2024-04-02T08:36:12.227680Z"
    }
   },
   "execution_count": 22
  },
  {
   "cell_type": "code",
   "outputs": [],
   "source": [
    "sft_train = []\n",
    "sft_eval = []\n",
    "with open(\"./data/character_dialogs.json\", \"r\") as f:\n",
    "    dialogs = json.load(f)\n",
    "    for dialog in dialogs:\n",
    "        dialog_prompts = get_prompts(dialog)  # 获取对话列表\n",
    "        if dialog[\"id\"] in eval_id_lst:\n",
    "            sft_eval.extend(dialog_prompts)\n",
    "        else:\n",
    "            sft_train.extend(dialog_prompts)  # 追加对话列表到py_obj中"
   ],
   "metadata": {
    "collapsed": false,
    "ExecuteTime": {
     "end_time": "2024-04-02T08:36:12.306379Z",
     "start_time": "2024-04-02T08:36:12.231229Z"
    }
   },
   "execution_count": 23
  },
  {
   "cell_type": "code",
   "outputs": [
    {
     "name": "stderr",
     "output_type": "stream",
     "text": [
      "[INFO] [04-02 16:36:12] utils.py:376 [t:8642904704]: start to write arrow table to /Users/guoweiming/.qianfan_cache/dataset/.mapper_cache/Users/guoweiming/PycharmProjects/bce-qianfan-sdk/cookbook/finetune/default_path_899ebcae-3ebe-476d-9fc3-6c9db90db1bf.arrow\n",
      "[INFO] [04-02 16:36:12] utils.py:388 [t:8642904704]: writing succeeded\n",
      "[INFO] [04-02 16:36:12] utils.py:262 [t:8642904704]: start to get memory_map from /Users/guoweiming/.qianfan_cache/dataset/.mapper_cache/Users/guoweiming/PycharmProjects/bce-qianfan-sdk/cookbook/finetune/default_path_899ebcae-3ebe-476d-9fc3-6c9db90db1bf.arrow\n",
      "[INFO] [04-02 16:36:12] utils.py:376 [t:8642904704]: start to write arrow table to /Users/guoweiming/.qianfan_cache/dataset/.mapper_cache/Users/guoweiming/PycharmProjects/bce-qianfan-sdk/cookbook/finetune/default_path_723a3145-b9eb-49a5-9835-f274eba82589.arrow\n",
      "[INFO] [04-02 16:36:12] utils.py:388 [t:8642904704]: writing succeeded\n",
      "[INFO] [04-02 16:36:12] utils.py:262 [t:8642904704]: start to get memory_map from /Users/guoweiming/.qianfan_cache/dataset/.mapper_cache/Users/guoweiming/PycharmProjects/bce-qianfan-sdk/cookbook/finetune/default_path_723a3145-b9eb-49a5-9835-f274eba82589.arrow\n"
     ]
    },
    {
     "data": {
      "text/plain": "True"
     },
     "execution_count": 24,
     "metadata": {},
     "output_type": "execute_result"
    }
   ],
   "source": [
    "from qianfan.dataset import Dataset\n",
    "train_ds = Dataset.create_from_pyobj(sft_train)\n",
    "eval_ds = Dataset.create_from_pyobj(sft_eval)\n",
    "train_ds.pack()\n",
    "eval_ds.pack()"
   ],
   "metadata": {
    "collapsed": false,
    "ExecuteTime": {
     "end_time": "2024-04-02T08:36:12.433285Z",
     "start_time": "2024-04-02T08:36:12.272423Z"
    }
   },
   "execution_count": 24
  },
  {
   "cell_type": "code",
   "outputs": [
    {
     "name": "stdout",
     "output_type": "stream",
     "text": [
      "[{'prompt': \"{'姓名': '佟湘玉', '性别': '女', '年龄': '二十七', '绰号': '千手观音', '身份': '同福客栈掌柜，龙门镖局千金', '历史': '出生于陕西汉中的龙门镖局，是镖局老板的独生女。因不满父亲安排的婚事，一怒之下离家出走，来到关中开设了同福客栈。', '特长': '擅长使用暗器，具有迷人的媚眼。', '性格': '自私、贪财、虚荣、好面子，同时也追求享受。', '志向': '希望将同福客栈发展成连锁企业，赚取大量财富，并通过买选票成为武林第一美女。', '人物经历': '佟湘玉是龙门镖局镖头的女儿，原本下嫁衡山派掌门，却在途中成了寡妇。之后，她肩负起照顾小姑子的责任，同时经营同福客栈，努力扶助周围的人。在江湖中，她以智慧和勇气面对各种挑战，追求与白展堂的爱情。', '名言': ['物美价廉的秀才啊……', '我不是黄蓉，我不会武功，我没有靖哥哥和完美的爱情……', '秋风送爽，百花争艳……', '感情归感情，生意归生意。', '美滴很！美滴很！', '生可忍熟不可忍，展堂……', '额姓佟，佟湘玉的玉。', '额跟你拼了！', '关门，放小郭。', '回来！还米有付钱捏！']}\\n现在请你扮演一个角色扮演专家。请你根据上述信息扮演佟湘玉进行对话。\", 'response': '好的！现在我来扮演佟湘玉。'}, {'prompt': '白展堂：大馅饺子包着呢', 'response': '佟湘玉：包着呢'}, {'prompt': '白展堂：你的心情好着呢', 'response': '佟湘玉：好得很'}, {'prompt': '白展堂：雌雄双煞饿着呢', 'response': '佟湘玉：饿到家了，谁是雌雄双煞？'}, {'prompt': '白展堂：别跟我玩儿吃了吐这套啊，你不就因为这个被侯三讹上的嘛', 'response': '佟湘玉：你咋知道的'}, {'prompt': '白展堂：我咋知道，你以为他那么容易就还钱啊', 'response': '佟湘玉：是你逼他还的'}, {'prompt': '白展堂：不是逼，是通知，我跟他说了，再不还钱我就上衙门告他', 'response': '佟湘玉：这不太好吧'}, {'prompt': '白展堂：这有啥不好的呀，跟讲道理的人我们就跟人讲道理，不讲道理的人咱就用大明律跟他解决问题，你说你连这点法律意识都没有，你还开啥店呐你', 'response': '佟湘玉：你不知道，雌雄双煞恶得很'}, {'prompt': '白展堂：再恶不还有我们给你顶着呢，你说说你，啥事都往自己身上揽，那还要我们三大老爷们干啥呀，虽然说他俩不如我啊', 'response': ''}]\n"
     ]
    }
   ],
   "source": [
    "print(train_ds.list()[2])"
   ],
   "metadata": {
    "collapsed": false,
    "ExecuteTime": {
     "end_time": "2024-04-02T08:36:23.560487Z",
     "start_time": "2024-04-02T08:36:23.496405Z"
    }
   },
   "execution_count": 27
  },
  {
   "cell_type": "markdown",
   "source": [
    "将数据集保存到本地"
   ],
   "metadata": {
    "collapsed": false
   }
  },
  {
   "cell_type": "code",
   "outputs": [
    {
     "name": "stderr",
     "output_type": "stream",
     "text": [
      "[INFO] [04-02 16:36:12] dataset.py:462 [t:8642904704]: no destination data source was provided, construct\n",
      "[INFO] [04-02 16:36:12] dataset.py:257 [t:8642904704]: construct a file data source from path: ./data/sft_train.jsonl, with args: {}\n",
      "[INFO] [04-02 16:36:12] file.py:280 [t:8642904704]: use format type FormatType.Jsonl\n",
      "[INFO] [04-02 16:36:12] dataset.py:462 [t:8642904704]: no destination data source was provided, construct\n",
      "[INFO] [04-02 16:36:12] dataset.py:257 [t:8642904704]: construct a file data source from path: ./data/sft_eval.jsonl, with args: {}\n",
      "[INFO] [04-02 16:36:12] file.py:280 [t:8642904704]: use format type FormatType.Jsonl\n"
     ]
    },
    {
     "data": {
      "text/plain": "<qianfan.dataset.dataset.Dataset at 0x7fa620e6d2e0>"
     },
     "execution_count": 26,
     "metadata": {},
     "output_type": "execute_result"
    }
   ],
   "source": [
    "train_ds.save(data_file=\"./data/sft_train.jsonl\")\n",
    "eval_ds.save(data_file=\"./data/sft_eval.jsonl\")"
   ],
   "metadata": {
    "collapsed": false,
    "ExecuteTime": {
     "end_time": "2024-04-02T08:36:12.617155Z",
     "start_time": "2024-04-02T08:36:12.492349Z"
    }
   },
   "execution_count": 26
  },
  {
   "cell_type": "markdown",
   "metadata": {},
   "source": [
    "## 数据集加载\n",
    "\n",
    "千帆SDK提供了数据集实现帮助我们可以快速的加载本地的数据集到内存，并通过设定DataSource数据源以保存至本地和千帆平台。"
   ]
  },
  {
   "cell_type": "code",
   "execution_count": 4,
   "metadata": {
    "ExecuteTime": {
     "end_time": "2024-04-02T05:43:45.297850Z",
     "start_time": "2024-04-02T05:43:44.812227Z"
    }
   },
   "outputs": [
    {
     "name": "stderr",
     "output_type": "stream",
     "text": [
      "[INFO] [04-02 13:43:44] dataset.py:389 [t:8642904704]: no data source was provided, construct\n",
      "[INFO] [04-02 13:43:44] dataset.py:257 [t:8642904704]: construct a file data source from path: ./data/sft_train.jsonl, with args: {}\n",
      "[INFO] [04-02 13:43:44] file.py:280 [t:8642904704]: use format type FormatType.Jsonl\n",
      "[INFO] [04-02 13:43:44] utils.py:262 [t:8642904704]: start to get memory_map from /Users/guoweiming/.qianfan_cache/dataset/Users/guoweiming/PycharmProjects/bce-qianfan-sdk/cookbook/finetune/data/sft_train.arrow\n",
      "[INFO] [04-02 13:43:44] utils.py:237 [t:8642904704]: has got a memory-mapped table\n",
      "[INFO] [04-02 13:43:44] dataset.py:883 [t:8642904704]: list local dataset data by 5\n"
     ]
    },
    {
     "data": {
      "text/plain": "[{'prompt': \"{'姓名': '佟湘玉', '性别': '女', '年龄': '二十七', '绰号': '千手观音', '身份': '同福客栈掌柜，龙门镖局千金', '历史': '出生于陕西汉中的龙门镖局，是镖局老板的独生女。因不满父亲安排的婚事，一怒之下离家出走，来到关中开设了同福客栈。', '特长': '擅长使用暗器，具有迷人的媚眼。', '性格': '自私、贪财、虚荣、好面子，同时也追求享受。', '志向': '希望将同福客栈发展成连锁企业，赚取大量财富，并通过买选票成为武林第一美女。', '人物经历': '佟湘玉是龙门镖局镖头的女儿，原本下嫁衡山派掌门，却在途中成了寡妇。之后，她肩负起照顾小姑子的责任，同时经营同福客栈，努力扶助周围的人。在江湖中，她以智慧和勇气面对各种挑战，追求与白展堂的爱情。', '名言': ['物美价廉的秀才啊……', '我不是黄蓉，我不会武功，我没有靖哥哥和完美的爱情……', '秋风送爽，百花争艳……', '感情归感情，生意归生意。', '美滴很！美滴很！', '生可忍熟不可忍，展堂……', '额姓佟，佟湘玉的玉。', '额跟你拼了！', '关门，放小郭。', '回来！还米有付钱捏！']}\\n现在请你扮演一个角色扮演专家。请你根据上述信息扮演佟湘玉进行对话。\\n\",\n  'response': [['好的！现在我来扮演佟湘玉。']]},\n {'prompt': '郭芙蓉：怎么灰这样呢小青', 'response': [['佟湘玉：吃点东西吧']]},\n {'prompt': '郭芙蓉：谢谢我不饿我只是想当大侠而已没想到给你店里添了那么多麻烦',\n  'response': [['佟湘玉：你也知道是麻烦啊在你心目中大侠应该是什么样子呢']]},\n {'prompt': '郭芙蓉：就像我爹年轻时候那样了纵横江湖行侠仗义',\n  'response': [['佟湘玉：行侠仗义每个人都想但不是每个人都能做得到的']]},\n {'prompt': '郭芙蓉：你觉得侠应该是什么样', 'response': [['佟湘玉：把侠字拆开来应该是一个人一个夹这说明什么呀']]},\n {'prompt': '郭芙蓉：夹着尾巴做人', 'response': [['佟湘玉：错了是一个能把自己夹起来的人就是真正的侠']]}]"
     },
     "execution_count": 4,
     "metadata": {},
     "output_type": "execute_result"
    }
   ],
   "source": [
    "from qianfan.dataset import Dataset\n",
    "\n",
    "# 加载本地数据集\n",
    "ds: Dataset = Dataset.load(data_file=\"./data/sft_train.jsonl\")\n",
    "ds.list(5)"
   ]
  },
  {
   "cell_type": "markdown",
   "metadata": {},
   "source": [
    "从本地数据集上传到BOS"
   ]
  },
  {
   "cell_type": "code",
   "execution_count": 5,
   "metadata": {
    "ExecuteTime": {
     "end_time": "2024-04-02T05:43:51.667553Z",
     "start_time": "2024-04-02T05:43:51.626164Z"
    }
   },
   "outputs": [],
   "source": [
    "# 保存到千帆平台\n",
    "from qianfan.dataset.data_source import QianfanDataSource\n",
    "from qianfan.resources.console import consts as console_consts\n",
    "\n",
    "bos_bucket_name = \"your_bucket_name\"\n",
    "bos_bucket_file_path = \"/sft_ds/\"\n",
    "\n",
    "# 创建千帆数据集，并上传保存\n",
    "qianfan_data_source = QianfanDataSource.create_bare_dataset(\n",
    "    name=\"random_sft_train\",\n",
    "    template_type=console_consts.DataTemplateType.NonSortedConversation,\n",
    "    storage_type=console_consts.DataStorageType.PrivateBos,\n",
    "    storage_id=bos_bucket_name,\n",
    "    storage_path=bos_bucket_file_path,\n",
    ")\n",
    "\n",
    "ds = ds.save(qianfan_data_source)"
   ]
  },
  {
   "cell_type": "markdown",
   "metadata": {},
   "source": [
    "### LLMFinetune 训练\n",
    "`LLMFinetune` 实现了SFT逻辑的trainer，它内部组装了SFT所需要的基本`Pipeline`, 用于串联数据->训练->模型发布->服务调用等步骤"
   ]
  },
  {
   "cell_type": "code",
   "execution_count": 7,
   "metadata": {
    "ExecuteTime": {
     "end_time": "2024-03-29T08:48:41.213367Z",
     "start_time": "2024-03-29T08:48:41.193816Z"
    }
   },
   "outputs": [],
   "source": [
    "from qianfan.trainer import LLMFinetune\n",
    "from qianfan.trainer.configs import TrainConfig\n",
    "from qianfan.trainer.consts import PeftType\n",
    "\n",
    "trainer = LLMFinetune(\n",
    "    train_type=\"ERNIE-Speed\",\n",
    "    train_config=TrainConfig(\n",
    "        epoch=3,\n",
    "        learning_rate=3e-5,\n",
    "        max_seq_len=4096,\n",
    "        peft_type=PeftType.ALL,\n",
    "    ),\n",
    "    dataset=ds,\n",
    ")"
   ]
  },
  {
   "cell_type": "markdown",
   "metadata": {},
   "source": [
    "### 运行任务\n",
    "同步运行trainer，训练直到模型发布完成"
   ]
  },
  {
   "cell_type": "code",
   "execution_count": 8,
   "metadata": {},
   "outputs": [
    {
     "name": "stderr",
     "output_type": "stream",
     "text": [
      "[INFO] [03-29 16:58:41] utils.py:678 [t:8678736512]: data releasing, keep polling\n",
      "[INFO] [03-29 16:58:44] utils.py:678 [t:8678736512]: data releasing, keep polling\n",
      "[INFO] [03-29 16:58:47] utils.py:678 [t:8678736512]: data releasing, keep polling\n",
      "[INFO] [03-29 16:58:50] utils.py:678 [t:8678736512]: data releasing, keep polling\n",
      "[INFO] [03-29 16:58:52] utils.py:678 [t:8678736512]: data releasing, keep polling\n",
      "[INFO] [03-29 16:58:55] utils.py:678 [t:8678736512]: data releasing, keep polling\n",
      "[INFO] [03-29 16:58:58] utils.py:678 [t:8678736512]: data releasing, keep polling\n",
      "[INFO] [03-29 16:59:01] utils.py:678 [t:8678736512]: data releasing, keep polling\n",
      "[INFO] [03-29 16:59:04] utils.py:678 [t:8678736512]: data releasing, keep polling\n",
      "[INFO] [03-29 16:59:07] utils.py:685 [t:8678736512]: data releasing succeeded\n",
      "[INFO] [03-29 16:59:10] actions.py:561 [t:8678736512]: [train_action] training ... job_name:ERNIE_Speed_6UAkv current status: Running, 1% check train task log in https://console.bce.baidu.com/qianfan/train/sft/job-ejpbi3s5h0n9/task-vx6n53szwqkp/detail/traininglog\n",
      "[INFO] [03-29 16:59:41] actions.py:561 [t:8678736512]: [train_action] training ... job_name:ERNIE_Speed_6UAkv current status: Running, 1% check train task log in https://console.bce.baidu.com/qianfan/train/sft/job-ejpbi3s5h0n9/task-vx6n53szwqkp/detail/traininglog\n",
      "[INFO] [03-29 17:00:12] actions.py:561 [t:8678736512]: [train_action] training ... job_name:ERNIE_Speed_6UAkv current status: Running, 3% check train task log in https://console.bce.baidu.com/qianfan/train/sft/job-ejpbi3s5h0n9/task-vx6n53szwqkp/detail/traininglog\n",
      "[INFO] [03-29 17:00:43] actions.py:561 [t:8678736512]: [train_action] training ... job_name:ERNIE_Speed_6UAkv current status: Running, 34% check train task log in https://console.bce.baidu.com/qianfan/train/sft/job-ejpbi3s5h0n9/task-vx6n53szwqkp/detail/traininglog\n",
      "[INFO] [03-29 17:01:14] actions.py:561 [t:8678736512]: [train_action] training ... job_name:ERNIE_Speed_6UAkv current status: Running, 34% check train task log in https://console.bce.baidu.com/qianfan/train/sft/job-ejpbi3s5h0n9/task-vx6n53szwqkp/detail/traininglog\n",
      "[INFO] [03-29 17:01:44] actions.py:561 [t:8678736512]: [train_action] training ... job_name:ERNIE_Speed_6UAkv current status: Running, 34% check train task log in https://console.bce.baidu.com/qianfan/train/sft/job-ejpbi3s5h0n9/task-vx6n53szwqkp/detail/traininglog\n",
      "[INFO] [03-29 17:02:15] actions.py:561 [t:8678736512]: [train_action] training ... job_name:ERNIE_Speed_6UAkv current status: Running, 34% check train task log in https://console.bce.baidu.com/qianfan/train/sft/job-ejpbi3s5h0n9/task-vx6n53szwqkp/detail/traininglog\n",
      "[INFO] [03-29 17:02:46] actions.py:561 [t:8678736512]: [train_action] training ... job_name:ERNIE_Speed_6UAkv current status: Running, 34% check train task log in https://console.bce.baidu.com/qianfan/train/sft/job-ejpbi3s5h0n9/task-vx6n53szwqkp/detail/traininglog\n",
      "[INFO] [03-29 17:03:17] actions.py:561 [t:8678736512]: [train_action] training ... job_name:ERNIE_Speed_6UAkv current status: Running, 34% check train task log in https://console.bce.baidu.com/qianfan/train/sft/job-ejpbi3s5h0n9/task-vx6n53szwqkp/detail/traininglog\n",
      "[INFO] [03-29 17:03:48] actions.py:561 [t:8678736512]: [train_action] training ... job_name:ERNIE_Speed_6UAkv current status: Running, 34% check train task log in https://console.bce.baidu.com/qianfan/train/sft/job-ejpbi3s5h0n9/task-vx6n53szwqkp/detail/traininglog\n",
      "[INFO] [03-29 17:04:19] actions.py:561 [t:8678736512]: [train_action] training ... job_name:ERNIE_Speed_6UAkv current status: Running, 34% check train task log in https://console.bce.baidu.com/qianfan/train/sft/job-ejpbi3s5h0n9/task-vx6n53szwqkp/detail/traininglog\n",
      "[INFO] [03-29 17:04:50] actions.py:561 [t:8678736512]: [train_action] training ... job_name:ERNIE_Speed_6UAkv current status: Running, 34% check train task log in https://console.bce.baidu.com/qianfan/train/sft/job-ejpbi3s5h0n9/task-vx6n53szwqkp/detail/traininglog\n",
      "[INFO] [03-29 17:05:21] actions.py:561 [t:8678736512]: [train_action] training ... job_name:ERNIE_Speed_6UAkv current status: Running, 36% check train task log in https://console.bce.baidu.com/qianfan/train/sft/job-ejpbi3s5h0n9/task-vx6n53szwqkp/detail/traininglog\n",
      "[INFO] [03-29 17:05:52] actions.py:561 [t:8678736512]: [train_action] training ... job_name:ERNIE_Speed_6UAkv current status: Running, 38% check train task log in https://console.bce.baidu.com/qianfan/train/sft/job-ejpbi3s5h0n9/task-vx6n53szwqkp/detail/traininglog\n",
      "[INFO] [03-29 17:06:23] actions.py:561 [t:8678736512]: [train_action] training ... job_name:ERNIE_Speed_6UAkv current status: Running, 39% check train task log in https://console.bce.baidu.com/qianfan/train/sft/job-ejpbi3s5h0n9/task-vx6n53szwqkp/detail/traininglog\n",
      "[INFO] [03-29 17:06:53] actions.py:561 [t:8678736512]: [train_action] training ... job_name:ERNIE_Speed_6UAkv current status: Running, 40% check train task log in https://console.bce.baidu.com/qianfan/train/sft/job-ejpbi3s5h0n9/task-vx6n53szwqkp/detail/traininglog\n",
      "[INFO] [03-29 17:07:24] actions.py:561 [t:8678736512]: [train_action] training ... job_name:ERNIE_Speed_6UAkv current status: Running, 41% check train task log in https://console.bce.baidu.com/qianfan/train/sft/job-ejpbi3s5h0n9/task-vx6n53szwqkp/detail/traininglog\n",
      "[INFO] [03-29 17:07:55] actions.py:561 [t:8678736512]: [train_action] training ... job_name:ERNIE_Speed_6UAkv current status: Running, 43% check train task log in https://console.bce.baidu.com/qianfan/train/sft/job-ejpbi3s5h0n9/task-vx6n53szwqkp/detail/traininglog\n",
      "[INFO] [03-29 17:08:26] actions.py:561 [t:8678736512]: [train_action] training ... job_name:ERNIE_Speed_6UAkv current status: Running, 43% check train task log in https://console.bce.baidu.com/qianfan/train/sft/job-ejpbi3s5h0n9/task-vx6n53szwqkp/detail/traininglog\n",
      "[INFO] [03-29 17:08:57] actions.py:561 [t:8678736512]: [train_action] training ... job_name:ERNIE_Speed_6UAkv current status: Running, 44% check train task log in https://console.bce.baidu.com/qianfan/train/sft/job-ejpbi3s5h0n9/task-vx6n53szwqkp/detail/traininglog\n",
      "[INFO] [03-29 17:09:28] actions.py:561 [t:8678736512]: [train_action] training ... job_name:ERNIE_Speed_6UAkv current status: Running, 46% check train task log in https://console.bce.baidu.com/qianfan/train/sft/job-ejpbi3s5h0n9/task-vx6n53szwqkp/detail/traininglog\n",
      "[INFO] [03-29 17:09:58] actions.py:561 [t:8678736512]: [train_action] training ... job_name:ERNIE_Speed_6UAkv current status: Running, 47% check train task log in https://console.bce.baidu.com/qianfan/train/sft/job-ejpbi3s5h0n9/task-vx6n53szwqkp/detail/traininglog\n",
      "[INFO] [03-29 17:10:29] actions.py:561 [t:8678736512]: [train_action] training ... job_name:ERNIE_Speed_6UAkv current status: Running, 48% check train task log in https://console.bce.baidu.com/qianfan/train/sft/job-ejpbi3s5h0n9/task-vx6n53szwqkp/detail/traininglog\n",
      "[INFO] [03-29 17:11:00] actions.py:561 [t:8678736512]: [train_action] training ... job_name:ERNIE_Speed_6UAkv current status: Running, 49% check train task log in https://console.bce.baidu.com/qianfan/train/sft/job-ejpbi3s5h0n9/task-vx6n53szwqkp/detail/traininglog\n",
      "[INFO] [03-29 17:11:31] actions.py:561 [t:8678736512]: [train_action] training ... job_name:ERNIE_Speed_6UAkv current status: Running, 51% check train task log in https://console.bce.baidu.com/qianfan/train/sft/job-ejpbi3s5h0n9/task-vx6n53szwqkp/detail/traininglog\n",
      "[INFO] [03-29 17:11:31] actions.py:568 [t:8678736512]:  check vdl report in https://console.bce.baidu.com/qianfan/visualdl/index?displayToken=eyJydW5JZCI6InJ1bi1lNWplazBxZGt5MHdpeDViIn0=\n",
      "[INFO] [03-29 17:12:02] actions.py:561 [t:8678736512]: [train_action] training ... job_name:ERNIE_Speed_6UAkv current status: Running, 51% check train task log in https://console.bce.baidu.com/qianfan/train/sft/job-ejpbi3s5h0n9/task-vx6n53szwqkp/detail/traininglog\n",
      "[INFO] [03-29 17:12:02] actions.py:568 [t:8678736512]:  check vdl report in https://console.bce.baidu.com/qianfan/visualdl/index?displayToken=eyJydW5JZCI6InJ1bi1lNWplazBxZGt5MHdpeDViIn0=\n",
      "[INFO] [03-29 17:12:33] actions.py:561 [t:8678736512]: [train_action] training ... job_name:ERNIE_Speed_6UAkv current status: Running, 53% check train task log in https://console.bce.baidu.com/qianfan/train/sft/job-ejpbi3s5h0n9/task-vx6n53szwqkp/detail/traininglog\n",
      "[INFO] [03-29 17:12:33] actions.py:568 [t:8678736512]:  check vdl report in https://console.bce.baidu.com/qianfan/visualdl/index?displayToken=eyJydW5JZCI6InJ1bi1lNWplazBxZGt5MHdpeDViIn0=\n",
      "[INFO] [03-29 17:13:04] actions.py:561 [t:8678736512]: [train_action] training ... job_name:ERNIE_Speed_6UAkv current status: Running, 55% check train task log in https://console.bce.baidu.com/qianfan/train/sft/job-ejpbi3s5h0n9/task-vx6n53szwqkp/detail/traininglog\n",
      "[INFO] [03-29 17:13:04] actions.py:568 [t:8678736512]:  check vdl report in https://console.bce.baidu.com/qianfan/visualdl/index?displayToken=eyJydW5JZCI6InJ1bi1lNWplazBxZGt5MHdpeDViIn0=\n",
      "[INFO] [03-29 17:13:34] actions.py:561 [t:8678736512]: [train_action] training ... job_name:ERNIE_Speed_6UAkv current status: Running, 55% check train task log in https://console.bce.baidu.com/qianfan/train/sft/job-ejpbi3s5h0n9/task-vx6n53szwqkp/detail/traininglog\n",
      "[INFO] [03-29 17:13:34] actions.py:568 [t:8678736512]:  check vdl report in https://console.bce.baidu.com/qianfan/visualdl/index?displayToken=eyJydW5JZCI6InJ1bi1lNWplazBxZGt5MHdpeDViIn0=\n",
      "[INFO] [03-29 17:14:05] actions.py:561 [t:8678736512]: [train_action] training ... job_name:ERNIE_Speed_6UAkv current status: Running, 57% check train task log in https://console.bce.baidu.com/qianfan/train/sft/job-ejpbi3s5h0n9/task-vx6n53szwqkp/detail/traininglog\n",
      "[INFO] [03-29 17:14:05] actions.py:568 [t:8678736512]:  check vdl report in https://console.bce.baidu.com/qianfan/visualdl/index?displayToken=eyJydW5JZCI6InJ1bi1lNWplazBxZGt5MHdpeDViIn0=\n",
      "[INFO] [03-29 17:14:36] actions.py:561 [t:8678736512]: [train_action] training ... job_name:ERNIE_Speed_6UAkv current status: Running, 58% check train task log in https://console.bce.baidu.com/qianfan/train/sft/job-ejpbi3s5h0n9/task-vx6n53szwqkp/detail/traininglog\n",
      "[INFO] [03-29 17:14:36] actions.py:568 [t:8678736512]:  check vdl report in https://console.bce.baidu.com/qianfan/visualdl/index?displayToken=eyJydW5JZCI6InJ1bi1lNWplazBxZGt5MHdpeDViIn0=\n",
      "[INFO] [03-29 17:15:07] actions.py:561 [t:8678736512]: [train_action] training ... job_name:ERNIE_Speed_6UAkv current status: Running, 59% check train task log in https://console.bce.baidu.com/qianfan/train/sft/job-ejpbi3s5h0n9/task-vx6n53szwqkp/detail/traininglog\n",
      "[INFO] [03-29 17:15:07] actions.py:568 [t:8678736512]:  check vdl report in https://console.bce.baidu.com/qianfan/visualdl/index?displayToken=eyJydW5JZCI6InJ1bi1lNWplazBxZGt5MHdpeDViIn0=\n",
      "[INFO] [03-29 17:15:38] actions.py:561 [t:8678736512]: [train_action] training ... job_name:ERNIE_Speed_6UAkv current status: Running, 60% check train task log in https://console.bce.baidu.com/qianfan/train/sft/job-ejpbi3s5h0n9/task-vx6n53szwqkp/detail/traininglog\n",
      "[INFO] [03-29 17:15:38] actions.py:568 [t:8678736512]:  check vdl report in https://console.bce.baidu.com/qianfan/visualdl/index?displayToken=eyJydW5JZCI6InJ1bi1lNWplazBxZGt5MHdpeDViIn0=\n",
      "[INFO] [03-29 17:16:09] actions.py:561 [t:8678736512]: [train_action] training ... job_name:ERNIE_Speed_6UAkv current status: Running, 61% check train task log in https://console.bce.baidu.com/qianfan/train/sft/job-ejpbi3s5h0n9/task-vx6n53szwqkp/detail/traininglog\n",
      "[INFO] [03-29 17:16:09] actions.py:568 [t:8678736512]:  check vdl report in https://console.bce.baidu.com/qianfan/visualdl/index?displayToken=eyJydW5JZCI6InJ1bi1lNWplazBxZGt5MHdpeDViIn0=\n",
      "[INFO] [03-29 17:16:39] actions.py:561 [t:8678736512]: [train_action] training ... job_name:ERNIE_Speed_6UAkv current status: Running, 62% check train task log in https://console.bce.baidu.com/qianfan/train/sft/job-ejpbi3s5h0n9/task-vx6n53szwqkp/detail/traininglog\n",
      "[INFO] [03-29 17:16:39] actions.py:568 [t:8678736512]:  check vdl report in https://console.bce.baidu.com/qianfan/visualdl/index?displayToken=eyJydW5JZCI6InJ1bi1lNWplazBxZGt5MHdpeDViIn0=\n",
      "[INFO] [03-29 17:17:10] actions.py:561 [t:8678736512]: [train_action] training ... job_name:ERNIE_Speed_6UAkv current status: Running, 64% check train task log in https://console.bce.baidu.com/qianfan/train/sft/job-ejpbi3s5h0n9/task-vx6n53szwqkp/detail/traininglog\n",
      "[INFO] [03-29 17:17:10] actions.py:568 [t:8678736512]:  check vdl report in https://console.bce.baidu.com/qianfan/visualdl/index?displayToken=eyJydW5JZCI6InJ1bi1lNWplazBxZGt5MHdpeDViIn0=\n",
      "[INFO] [03-29 17:17:41] actions.py:561 [t:8678736512]: [train_action] training ... job_name:ERNIE_Speed_6UAkv current status: Running, 65% check train task log in https://console.bce.baidu.com/qianfan/train/sft/job-ejpbi3s5h0n9/task-vx6n53szwqkp/detail/traininglog\n",
      "[INFO] [03-29 17:17:41] actions.py:568 [t:8678736512]:  check vdl report in https://console.bce.baidu.com/qianfan/visualdl/index?displayToken=eyJydW5JZCI6InJ1bi1lNWplazBxZGt5MHdpeDViIn0=\n",
      "[INFO] [03-29 17:18:12] actions.py:561 [t:8678736512]: [train_action] training ... job_name:ERNIE_Speed_6UAkv current status: Running, 65% check train task log in https://console.bce.baidu.com/qianfan/train/sft/job-ejpbi3s5h0n9/task-vx6n53szwqkp/detail/traininglog\n",
      "[INFO] [03-29 17:18:12] actions.py:568 [t:8678736512]:  check vdl report in https://console.bce.baidu.com/qianfan/visualdl/index?displayToken=eyJydW5JZCI6InJ1bi1lNWplazBxZGt5MHdpeDViIn0=\n",
      "[INFO] [03-29 17:18:43] actions.py:561 [t:8678736512]: [train_action] training ... job_name:ERNIE_Speed_6UAkv current status: Running, 65% check train task log in https://console.bce.baidu.com/qianfan/train/sft/job-ejpbi3s5h0n9/task-vx6n53szwqkp/detail/traininglog\n",
      "[INFO] [03-29 17:18:43] actions.py:568 [t:8678736512]:  check vdl report in https://console.bce.baidu.com/qianfan/visualdl/index?displayToken=eyJydW5JZCI6InJ1bi1lNWplazBxZGt5MHdpeDViIn0=\n",
      "[INFO] [03-29 17:19:14] actions.py:561 [t:8678736512]: [train_action] training ... job_name:ERNIE_Speed_6UAkv current status: Running, 65% check train task log in https://console.bce.baidu.com/qianfan/train/sft/job-ejpbi3s5h0n9/task-vx6n53szwqkp/detail/traininglog\n",
      "[INFO] [03-29 17:19:14] actions.py:568 [t:8678736512]:  check vdl report in https://console.bce.baidu.com/qianfan/visualdl/index?displayToken=eyJydW5JZCI6InJ1bi1lNWplazBxZGt5MHdpeDViIn0=\n",
      "[INFO] [03-29 17:19:45] actions.py:561 [t:8678736512]: [train_action] training ... job_name:ERNIE_Speed_6UAkv current status: Running, 65% check train task log in https://console.bce.baidu.com/qianfan/train/sft/job-ejpbi3s5h0n9/task-vx6n53szwqkp/detail/traininglog\n",
      "[INFO] [03-29 17:19:45] actions.py:568 [t:8678736512]:  check vdl report in https://console.bce.baidu.com/qianfan/visualdl/index?displayToken=eyJydW5JZCI6InJ1bi1lNWplazBxZGt5MHdpeDViIn0=\n"
     ]
    }
   ],
   "source": [
    "trainer.run()"
   ]
  },
  {
   "cell_type": "markdown",
   "metadata": {},
   "source": [
    "获取finetune任务输出："
   ]
  },
  {
   "cell_type": "code",
   "execution_count": null,
   "metadata": {},
   "outputs": [
    {
     "data": {
      "text/plain": [
       "{'datasets': {\n",
       "  'sourceType': 'Platform',\n",
       "  'versions': [{'versionId': 'ds-w5r9vywf22ghtgtv'}],\n",
       "  'splitRatio': 20},\n",
       "  'task_id': 'task-vx6n53szwqkp',\n",
       "  'job_id': 'job-ejpbi3s5h0n9',\n",
       "  'metrics': {\n",
       "    'BLEU-4': '7.16%',\n",
       "    'ROUGE-1': '28.96%',\n",
       "    'ROUGE-2': '10.72%',\n",
       "    'ROUGE-L': '24.45%'},\n",
       "  'model_id': 'am-bgztwj0s1dy1',\n",
       "  'model_version_id': 'amv-kqdahgi412mu',\n",
       "  'model': <qianfan.model.model.Model at 0x125749510>}"
      ]
     },
     "metadata": {},
     "output_type": "display_data"
    }
   ],
   "source": [
    "trainer.output"
   ]
  },
  {
   "cell_type": "code",
   "execution_count": 6,
   "metadata": {
    "ExecuteTime": {
     "end_time": "2024-04-02T05:44:01.393345Z",
     "start_time": "2024-04-02T05:44:00.628603Z"
    }
   },
   "outputs": [],
   "source": [
    "from qianfan.model import Model\n",
    "\n",
    "# 从训练结果中获取模型对象\n",
    "sft_speed: Model = trainer.output[\"model\"]"
   ]
  },
  {
   "cell_type": "markdown",
   "metadata": {},
   "source": [
    "## 微调结果评估\n",
    "得到微调模型后，借助平台自动评估器来评估微调的效果"
   ]
  },
  {
   "cell_type": "markdown",
   "metadata": {},
   "source": [
    "首先导出测试集到千帆平台"
   ]
  },
  {
   "cell_type": "code",
   "execution_count": 29,
   "metadata": {
    "ExecuteTime": {
     "end_time": "2024-04-03T02:24:59.487152Z",
     "start_time": "2024-04-03T02:24:58.542212Z"
    }
   },
   "outputs": [
    {
     "name": "stderr",
     "output_type": "stream",
     "text": [
      "[INFO] [04-03 10:24:58] dataset.py:389 [t:8642904704]: no data source was provided, construct\n",
      "[INFO] [04-03 10:24:58] dataset.py:257 [t:8642904704]: construct a file data source from path: data/sft_eval.jsonl, with args: {}\n",
      "[INFO] [04-03 10:24:58] file.py:280 [t:8642904704]: use format type FormatType.Jsonl\n",
      "[INFO] [04-03 10:24:58] utils.py:331 [t:8642904704]: need create cached arrow file for /Users/guoweiming/PycharmProjects/bce-qianfan-sdk/cookbook/finetune/data/sft_eval.jsonl\n",
      "[INFO] [04-03 10:24:58] utils.py:376 [t:8642904704]: start to write arrow table to /Users/guoweiming/.qianfan_cache/dataset/Users/guoweiming/PycharmProjects/bce-qianfan-sdk/cookbook/finetune/data/sft_eval.arrow\n",
      "[INFO] [04-03 10:24:58] utils.py:388 [t:8642904704]: writing succeeded\n",
      "[INFO] [04-03 10:24:58] utils.py:262 [t:8642904704]: start to get memory_map from /Users/guoweiming/.qianfan_cache/dataset/Users/guoweiming/PycharmProjects/bce-qianfan-sdk/cookbook/finetune/data/sft_eval.arrow\n",
      "[INFO] [04-03 10:24:58] utils.py:237 [t:8642904704]: has got a memory-mapped table\n",
      "[INFO] [04-03 10:24:58] baidu_qianfan.py:455 [t:8642904704]: start to create dataset on qianfan\n",
      "[ERROR] [04-03 10:24:59] data.py:49 [t:8642904704]: request error with code: DatasetGroup/NameInUse , and message: {'global': '该数据集组名称:[sft_ds_egeEH_]已被占用，请尝试其他名称'}\n"
     ]
    },
    {
     "ename": "QianfanError",
     "evalue": "request error with code: DatasetGroup/NameInUse , and message: {'global': '该数据集组名称:[sft_ds_egeEH_]已被占用，请尝试其他名称'}",
     "output_type": "error",
     "traceback": [
      "\u001B[0;31m---------------------------------------------------------------------------\u001B[0m",
      "\u001B[0;31mQianfanError\u001B[0m                              Traceback (most recent call last)",
      "\u001B[0;32m/var/folders/8c/vcrpfgjx0bq3cdry4vw4tvqm0000gn/T/ipykernel_8081/2812377899.py\u001B[0m in \u001B[0;36m<module>\u001B[0;34m\u001B[0m\n\u001B[1;32m      1\u001B[0m \u001B[0mtest_ds\u001B[0m \u001B[0;34m=\u001B[0m \u001B[0mDataset\u001B[0m\u001B[0;34m.\u001B[0m\u001B[0mload\u001B[0m\u001B[0;34m(\u001B[0m\u001B[0mdata_file\u001B[0m\u001B[0;34m=\u001B[0m\u001B[0;34m\"data/sft_eval.jsonl\"\u001B[0m\u001B[0;34m)\u001B[0m\u001B[0;34m\u001B[0m\u001B[0;34m\u001B[0m\u001B[0m\n\u001B[0;32m----> 2\u001B[0;31m test_data_source = QianfanDataSource.create_bare_dataset(\n\u001B[0m\u001B[1;32m      3\u001B[0m     \u001B[0mname\u001B[0m\u001B[0;34m=\u001B[0m\u001B[0mtest_dataset_name\u001B[0m\u001B[0;34m,\u001B[0m\u001B[0;34m\u001B[0m\u001B[0;34m\u001B[0m\u001B[0m\n\u001B[1;32m      4\u001B[0m     \u001B[0mtemplate_type\u001B[0m\u001B[0;34m=\u001B[0m\u001B[0mconsole_consts\u001B[0m\u001B[0;34m.\u001B[0m\u001B[0mDataTemplateType\u001B[0m\u001B[0;34m.\u001B[0m\u001B[0mNonSortedConversation\u001B[0m\u001B[0;34m,\u001B[0m\u001B[0;34m\u001B[0m\u001B[0;34m\u001B[0m\u001B[0m\n\u001B[1;32m      5\u001B[0m     \u001B[0mstorage_type\u001B[0m\u001B[0;34m=\u001B[0m\u001B[0mconsole_consts\u001B[0m\u001B[0;34m.\u001B[0m\u001B[0mDataStorageType\u001B[0m\u001B[0;34m.\u001B[0m\u001B[0mPrivateBos\u001B[0m\u001B[0;34m,\u001B[0m\u001B[0;34m\u001B[0m\u001B[0;34m\u001B[0m\u001B[0m\n",
      "\u001B[0;32m~/PycharmProjects/bce-qianfan-sdk/python/qianfan/dataset/data_source/baidu_qianfan.py\u001B[0m in \u001B[0;36mcreate_bare_dataset\u001B[0;34m(cls, name, template_type, storage_type, storage_id, storage_path, addition_info, ak, sk, **kwargs)\u001B[0m\n\u001B[1;32m    546\u001B[0m             \u001B[0;32mraise\u001B[0m \u001B[0merror\u001B[0m\u001B[0;34m\u001B[0m\u001B[0;34m\u001B[0m\u001B[0m\n\u001B[1;32m    547\u001B[0m \u001B[0;34m\u001B[0m\u001B[0m\n\u001B[0;32m--> 548\u001B[0;31m         return cls._create_bare_dataset(\n\u001B[0m\u001B[1;32m    549\u001B[0m             \u001B[0mname\u001B[0m\u001B[0;34m,\u001B[0m\u001B[0;34m\u001B[0m\u001B[0;34m\u001B[0m\u001B[0m\n\u001B[1;32m    550\u001B[0m             \u001B[0mtemplate_type\u001B[0m\u001B[0;34m,\u001B[0m\u001B[0;34m\u001B[0m\u001B[0;34m\u001B[0m\u001B[0m\n",
      "\u001B[0;32m~/PycharmProjects/bce-qianfan-sdk/python/qianfan/dataset/data_source/baidu_qianfan.py\u001B[0m in \u001B[0;36m_create_bare_dataset\u001B[0;34m(cls, name, template_type, storage_type, storage_id, storage_path, addition_info, ak, sk, **kwargs)\u001B[0m\n\u001B[1;32m    457\u001B[0m \u001B[0;34m\u001B[0m\u001B[0m\n\u001B[1;32m    458\u001B[0m         \u001B[0;31m# 发起创建数据集的请求\u001B[0m\u001B[0;34m\u001B[0m\u001B[0;34m\u001B[0m\u001B[0m\n\u001B[0;32m--> 459\u001B[0;31m         qianfan_resp = Data.create_bare_dataset(\n\u001B[0m\u001B[1;32m    460\u001B[0m             \u001B[0mname\u001B[0m\u001B[0;34m,\u001B[0m\u001B[0;34m\u001B[0m\u001B[0;34m\u001B[0m\u001B[0m\n\u001B[1;32m    461\u001B[0m             \u001B[0mset_type\u001B[0m\u001B[0;34m,\u001B[0m\u001B[0;34m\u001B[0m\u001B[0;34m\u001B[0m\u001B[0m\n",
      "\u001B[0;32m~/PycharmProjects/bce-qianfan-sdk/python/qianfan/resources/console/data.py\u001B[0m in \u001B[0;36minner\u001B[0;34m(*args, **kwargs)\u001B[0m\n\u001B[1;32m     48\u001B[0m             \u001B[0merr_msg\u001B[0m \u001B[0;34m=\u001B[0m \u001B[0;34mf\"request error with code: {code} , and message: {message}\"\u001B[0m\u001B[0;34m\u001B[0m\u001B[0;34m\u001B[0m\u001B[0m\n\u001B[1;32m     49\u001B[0m             \u001B[0mlog_error\u001B[0m\u001B[0;34m(\u001B[0m\u001B[0merr_msg\u001B[0m\u001B[0;34m)\u001B[0m\u001B[0;34m\u001B[0m\u001B[0;34m\u001B[0m\u001B[0m\n\u001B[0;32m---> 50\u001B[0;31m             \u001B[0;32mraise\u001B[0m \u001B[0mQianfanError\u001B[0m\u001B[0;34m(\u001B[0m\u001B[0merr_msg\u001B[0m\u001B[0;34m)\u001B[0m\u001B[0;34m\u001B[0m\u001B[0;34m\u001B[0m\u001B[0m\n\u001B[0m\u001B[1;32m     51\u001B[0m         \u001B[0;32mreturn\u001B[0m \u001B[0mresp\u001B[0m\u001B[0;34m\u001B[0m\u001B[0;34m\u001B[0m\u001B[0m\n\u001B[1;32m     52\u001B[0m \u001B[0;34m\u001B[0m\u001B[0m\n",
      "\u001B[0;31mQianfanError\u001B[0m: request error with code: DatasetGroup/NameInUse , and message: {'global': '该数据集组名称:[sft_ds_egeEH_]已被占用，请尝试其他名称'}"
     ]
    }
   ],
   "source": [
    "from qianfan.dataset import Dataset, QianfanDataSource\n",
    "\n",
    "test_ds = Dataset.load(data_file=\"data/sft_eval.jsonl\")\n",
    "test_data_source = QianfanDataSource.create_bare_dataset(\n",
    "    name=\"random_sft_eval\",\n",
    "    template_type=console_consts.DataTemplateType.NonSortedConversation,\n",
    "    storage_type=console_consts.DataStorageType.PrivateBos,\n",
    "    storage_id=bos_bucket_name,\n",
    "    storage_path=bos_bucket_file_path,\n",
    ")\n",
    "test_ds = test_ds.save(test_data_source)"
   ]
  },
  {
   "cell_type": "markdown",
   "metadata": {},
   "source": [
    "构建千帆自动评估器，这里使用自定义评估和规则评估，具体参见[how_to_use_evaluation](https://github.com/baidubce/bce-qianfan-sdk/blob/main/cookbook/evaluation/how_to_use_evaluation.ipynb)"
   ]
  },
  {
   "cell_type": "code",
   "outputs": [],
   "source": [
    "role_metric: str=\"\"\"\n",
    "4:完全可以扮演提问中的角色进行对话，回答完全符合角色口吻和身份，文本流畅语句通顺\n",
    "3:扮演了提问中正确的角色，回答完全符合角色口吻和身份\n",
    "2:扮演了提问中正确的角色，但是部分语句不符合角色口吻和身份，文本流畅语句通顺\n",
    "1:能够以角色的口吻和身份进行一部分对话，和角色设定有一定偏差，回答内容不流畅或不满足文本字数要求\n",
    "0:扮演了错误的角色，角色设定和提问设定差异极大，完全不满意\n",
    "\"\"\""
   ],
   "metadata": {
    "collapsed": false
   }
  },
  {
   "cell_type": "code",
   "execution_count": 9,
   "metadata": {
    "ExecuteTime": {
     "end_time": "2024-04-02T05:44:08.364177Z",
     "start_time": "2024-04-02T05:44:08.347447Z"
    }
   },
   "outputs": [],
   "source": [
    "from qianfan.evaluation.evaluator import QianfanRefereeEvaluator, QianfanRuleEvaluator\n",
    "\n",
    "your_app_id = 1\n",
    "\n",
    "qianfan_evaluators = [\n",
    "    QianfanRefereeEvaluator(\n",
    "        app_id=your_app_id,\n",
    "        prompt_metrics=role_metric\n",
    "    ),\n",
    "    QianfanRuleEvaluator(using_accuracy=True, using_similarity=True),\n",
    "]"
   ]
  },
  {
   "cell_type": "code",
   "execution_count": 10,
   "metadata": {
    "ExecuteTime": {
     "end_time": "2024-04-02T05:44:14.205651Z",
     "start_time": "2024-04-02T05:44:13.404907Z"
    }
   },
   "outputs": [
    {
     "name": "stderr",
     "output_type": "stream",
     "text": [
      "[INFO] [04-02 13:44:13] dataset.py:389 [t:8642904704]: no data source was provided, construct\n",
      "[INFO] [04-02 13:44:13] dataset.py:263 [t:8642904704]: construct a qianfan data source from existed id: ds-rkmff8rg4trhmtnz, with args: {}\n"
     ]
    }
   ],
   "source": [
    "test_ds = Dataset.load(qianfan_dataset_id=\"ds-rkmff8rg4trhmtnz\")"
   ]
  },
  {
   "cell_type": "markdown",
   "metadata": {},
   "source": [
    "开始评估，使用预置Speed模型与预置EB4模型进行对照测试"
   ]
  },
  {
   "cell_type": "code",
   "execution_count": 11,
   "metadata": {
    "ExecuteTime": {
     "end_time": "2024-04-02T05:44:16.508080Z",
     "start_time": "2024-04-02T05:44:16.486380Z"
    }
   },
   "outputs": [],
   "source": [
    "from qianfan.evaluation import EvaluationManager\n",
    "\n",
    "em = EvaluationManager(qianfan_evaluators=qianfan_evaluators)\n",
    "base_speed: Model = Model(version_id=\"amv-pzqtzdspm77m\")  # 预置Speed模型\n",
    "base_eb4: Model = Model(version_id=\"am-vhbjz6njftn9\")  # 预置EB4模型"
   ]
  },
  {
   "cell_type": "code",
   "execution_count": 14,
   "metadata": {
    "collapsed": false,
    "ExecuteTime": {
     "end_time": "2024-04-02T06:31:35.289824Z",
     "start_time": "2024-04-02T06:18:40.417519Z"
    }
   },
   "outputs": [
    {
     "name": "stderr",
     "output_type": "stream",
     "text": [
      "[INFO] [04-02 14:18:42] evaluation_manager.py:319 [t:8642904704]: please check webpage https://console.bce.baidu.com/qianfan/modelcenter/model/eval/detail/task/ame-vt77thyg4i1a to get further information\n",
      "[INFO] [04-02 14:18:43] evaluation_manager.py:327 [t:8642904704]: current eval_state: Pending\n",
      "[INFO] [04-02 14:19:13] evaluation_manager.py:327 [t:8642904704]: current eval_state: Doing\n",
      "[INFO] [04-02 14:19:44] evaluation_manager.py:327 [t:8642904704]: current eval_state: Doing\n",
      "[INFO] [04-02 14:20:15] evaluation_manager.py:327 [t:8642904704]: current eval_state: Doing\n",
      "[INFO] [04-02 14:20:45] evaluation_manager.py:327 [t:8642904704]: current eval_state: Doing\n",
      "[INFO] [04-02 14:21:16] evaluation_manager.py:327 [t:8642904704]: current eval_state: Doing\n",
      "[INFO] [04-02 14:21:47] evaluation_manager.py:327 [t:8642904704]: current eval_state: Doing\n",
      "[INFO] [04-02 14:22:17] evaluation_manager.py:327 [t:8642904704]: current eval_state: Doing\n",
      "[INFO] [04-02 14:22:48] evaluation_manager.py:327 [t:8642904704]: current eval_state: Doing\n",
      "[INFO] [04-02 14:23:19] evaluation_manager.py:327 [t:8642904704]: current eval_state: Doing\n",
      "[INFO] [04-02 14:23:49] evaluation_manager.py:327 [t:8642904704]: current eval_state: Doing\n",
      "[INFO] [04-02 14:24:20] evaluation_manager.py:327 [t:8642904704]: current eval_state: Doing\n",
      "[INFO] [04-02 14:24:51] evaluation_manager.py:327 [t:8642904704]: current eval_state: Doing\n",
      "[INFO] [04-02 14:25:21] evaluation_manager.py:327 [t:8642904704]: current eval_state: Doing\n",
      "[INFO] [04-02 14:25:52] evaluation_manager.py:327 [t:8642904704]: current eval_state: Doing\n",
      "[INFO] [04-02 14:26:23] evaluation_manager.py:327 [t:8642904704]: current eval_state: Doing\n",
      "[INFO] [04-02 14:26:53] evaluation_manager.py:327 [t:8642904704]: current eval_state: Doing\n",
      "[INFO] [04-02 14:27:24] evaluation_manager.py:327 [t:8642904704]: current eval_state: Doing\n",
      "[INFO] [04-02 14:27:55] evaluation_manager.py:327 [t:8642904704]: current eval_state: Doing\n",
      "[INFO] [04-02 14:28:26] evaluation_manager.py:327 [t:8642904704]: current eval_state: Doing\n",
      "[INFO] [04-02 14:28:56] evaluation_manager.py:327 [t:8642904704]: current eval_state: Doing\n",
      "[INFO] [04-02 14:29:27] evaluation_manager.py:327 [t:8642904704]: current eval_state: Doing\n",
      "[INFO] [04-02 14:29:58] evaluation_manager.py:327 [t:8642904704]: current eval_state: Doing\n",
      "[INFO] [04-02 14:30:28] evaluation_manager.py:327 [t:8642904704]: current eval_state: Doing\n",
      "[INFO] [04-02 14:30:59] evaluation_manager.py:327 [t:8642904704]: current eval_state: Doing\n",
      "[INFO] [04-02 14:31:30] evaluation_manager.py:327 [t:8642904704]: current eval_state: Done\n",
      "[INFO] [04-02 14:31:32] evaluation_manager.py:566 [t:8642904704]: wait evaluation result export task amemt-tqxq04ak9adh to be completed\n",
      "[INFO] [04-02 14:31:34] evaluation_manager.py:579 [t:8642904704]: export result succeeded\n",
      "[INFO] [04-02 14:31:34] evaluation_manager.py:587 [t:8642904704]: start to download evaluation result file from https://aipe-dragonboat.bj.bcebos.com/qianfan_modelrepo/workspace/model_eval_result_export/sdk_eval_qOFZMbyV5VY_ame-vt77thyg4i1a.zip?authorization=bce-auth-v1%2F50c8bb753dcb4e1d8646bb1ffefd3503%2F2024-04-02T06%3A31%3A32Z%2F-1%2Fhost%2Fbbb369cf1393cc9243b8d3863f8b7bf08ccd70e4e11ef51f70f66b0a9475b04c\n",
      "[INFO] [04-02 14:31:34] utils.py:645 [t:8642904704]: start to download file from url https://aipe-dragonboat.bj.bcebos.com/qianfan_modelrepo/workspace/model_eval_result_export/sdk_eval_qOFZMbyV5VY_ame-vt77thyg4i1a.zip?authorization=bce-auth-v1%2F50c8bb753dcb4e1d8646bb1ffefd3503%2F2024-04-02T06%3A31%3A32Z%2F-1%2Fhost%2Fbbb369cf1393cc9243b8d3863f8b7bf08ccd70e4e11ef51f70f66b0a9475b04c\n",
      "[INFO] [04-02 14:31:35] file.py:280 [t:8642904704]: use format type FormatType.Jsonl\n",
      "[INFO] [04-02 14:31:35] utils.py:331 [t:8642904704]: need create cached arrow file for /Users/guoweiming/PycharmProjects/bce-qianfan-sdk/cookbook/finetune/tmp_folder/data.jsonl\n",
      "[INFO] [04-02 14:31:35] utils.py:376 [t:8642904704]: start to write arrow table to /Users/guoweiming/.qianfan_cache/dataset/Users/guoweiming/PycharmProjects/bce-qianfan-sdk/cookbook/finetune/tmp_folder/data.arrow\n"
     ]
    },
    {
     "ename": "ArrowInvalid",
     "evalue": "Could not convert '该回答完全符合龙葵的角色设定和口吻。回答以龙葵的视角出发，展现了她活泼、好奇且略带羞涩的性格特点。同时，语句流畅，用词恰当，没有出现明显的错误或不当之处。完全符合标准答案的要求，且表现出较高的理解和表达能力。' with type str: tried to convert to double",
     "output_type": "error",
     "traceback": [
      "\u001B[0;31m---------------------------------------------------------------------------\u001B[0m",
      "\u001B[0;31mArrowInvalid\u001B[0m                              Traceback (most recent call last)",
      "\u001B[0;32m/var/folders/8c/vcrpfgjx0bq3cdry4vw4tvqm0000gn/T/ipykernel_8081/2938268996.py\u001B[0m in \u001B[0;36m<module>\u001B[0;34m\u001B[0m\n\u001B[1;32m      1\u001B[0m \u001B[0mresults\u001B[0m \u001B[0;34m=\u001B[0m \u001B[0;34m[\u001B[0m\u001B[0;34m]\u001B[0m\u001B[0;34m\u001B[0m\u001B[0;34m\u001B[0m\u001B[0m\n\u001B[0;32m----> 2\u001B[0;31m \u001B[0mresults\u001B[0m\u001B[0;34m.\u001B[0m\u001B[0mappend\u001B[0m\u001B[0;34m(\u001B[0m\u001B[0mem\u001B[0m\u001B[0;34m.\u001B[0m\u001B[0meval\u001B[0m\u001B[0;34m(\u001B[0m\u001B[0;34m[\u001B[0m\u001B[0msft_speed\u001B[0m\u001B[0;34m]\u001B[0m\u001B[0;34m,\u001B[0m \u001B[0mtest_ds\u001B[0m\u001B[0;34m)\u001B[0m\u001B[0;34m)\u001B[0m\u001B[0;34m\u001B[0m\u001B[0;34m\u001B[0m\u001B[0m\n\u001B[0m\u001B[1;32m      3\u001B[0m \u001B[0mresults\u001B[0m\u001B[0;34m.\u001B[0m\u001B[0mappend\u001B[0m\u001B[0;34m(\u001B[0m\u001B[0mem\u001B[0m\u001B[0;34m.\u001B[0m\u001B[0meval\u001B[0m\u001B[0;34m(\u001B[0m\u001B[0;34m[\u001B[0m\u001B[0mbase_speed\u001B[0m\u001B[0;34m]\u001B[0m\u001B[0;34m,\u001B[0m \u001B[0mtest_ds\u001B[0m\u001B[0;34m)\u001B[0m\u001B[0;34m)\u001B[0m\u001B[0;34m\u001B[0m\u001B[0;34m\u001B[0m\u001B[0m\n\u001B[1;32m      4\u001B[0m \u001B[0mresults\u001B[0m\u001B[0;34m.\u001B[0m\u001B[0mappend\u001B[0m\u001B[0;34m(\u001B[0m\u001B[0mem\u001B[0m\u001B[0;34m.\u001B[0m\u001B[0meval\u001B[0m\u001B[0;34m(\u001B[0m\u001B[0;34m[\u001B[0m\u001B[0mbase_eb4\u001B[0m\u001B[0;34m]\u001B[0m\u001B[0;34m,\u001B[0m \u001B[0mtest_ds\u001B[0m\u001B[0;34m)\u001B[0m\u001B[0;34m)\u001B[0m\u001B[0;34m\u001B[0m\u001B[0;34m\u001B[0m\u001B[0m\n",
      "\u001B[0;32m~/PycharmProjects/bce-qianfan-sdk/python/qianfan/evaluation/evaluation_manager.py\u001B[0m in \u001B[0;36meval\u001B[0;34m(self, llms, dataset, download_when_doing_online, **kwargs)\u001B[0m\n\u001B[1;32m    597\u001B[0m                 \u001B[0;31m# 返回指标信息\u001B[0m\u001B[0;34m\u001B[0m\u001B[0;34m\u001B[0m\u001B[0m\n\u001B[1;32m    598\u001B[0m                 return EvaluationResult(\n\u001B[0;32m--> 599\u001B[0;31m                     result_dataset=Dataset.load(\n\u001B[0m\u001B[1;32m    600\u001B[0m                         \u001B[0mFileDataSource\u001B[0m\u001B[0;34m(\u001B[0m\u001B[0mpath\u001B[0m\u001B[0;34m=\u001B[0m\u001B[0mdata_jsonl_file_path\u001B[0m\u001B[0;34m)\u001B[0m\u001B[0;34m\u001B[0m\u001B[0;34m\u001B[0m\u001B[0m\n\u001B[1;32m    601\u001B[0m                     ),\n",
      "\u001B[0;32m~/PycharmProjects/bce-qianfan-sdk/python/qianfan/dataset/dataset.py\u001B[0m in \u001B[0;36mload\u001B[0;34m(cls, source, data_file, qianfan_dataset_id, bos_load_args, huggingface_dataset, bos_source_args, schema, organize_data_as_group, **kwargs)\u001B[0m\n\u001B[1;32m    402\u001B[0m             \u001B[0;32mraise\u001B[0m \u001B[0mValueError\u001B[0m\u001B[0;34m(\u001B[0m\u001B[0merr_msg\u001B[0m\u001B[0;34m)\u001B[0m\u001B[0;34m\u001B[0m\u001B[0;34m\u001B[0m\u001B[0m\n\u001B[1;32m    403\u001B[0m \u001B[0;34m\u001B[0m\u001B[0m\n\u001B[0;32m--> 404\u001B[0;31m         \u001B[0mtable\u001B[0m \u001B[0;34m=\u001B[0m \u001B[0mcls\u001B[0m\u001B[0;34m.\u001B[0m\u001B[0m_from_source\u001B[0m\u001B[0;34m(\u001B[0m\u001B[0msource\u001B[0m\u001B[0;34m,\u001B[0m \u001B[0mschema\u001B[0m\u001B[0;34m,\u001B[0m \u001B[0;34m**\u001B[0m\u001B[0mkwargs\u001B[0m\u001B[0;34m)\u001B[0m\u001B[0;34m\u001B[0m\u001B[0;34m\u001B[0m\u001B[0m\n\u001B[0m\u001B[1;32m    405\u001B[0m \u001B[0;34m\u001B[0m\u001B[0m\n\u001B[1;32m    406\u001B[0m         \u001B[0;32mif\u001B[0m \u001B[0mtable\u001B[0m\u001B[0;34m.\u001B[0m\u001B[0mis_dataset_packed\u001B[0m\u001B[0;34m(\u001B[0m\u001B[0;34m)\u001B[0m \u001B[0;32mand\u001B[0m \u001B[0morganize_data_as_group\u001B[0m\u001B[0;34m:\u001B[0m\u001B[0;34m\u001B[0m\u001B[0;34m\u001B[0m\u001B[0m\n",
      "\u001B[0;32m~/PycharmProjects/bce-qianfan-sdk/python/qianfan/dataset/dataset.py\u001B[0m in \u001B[0;36m_from_source\u001B[0;34m(cls, source, schema, **kwargs)\u001B[0m\n\u001B[1;32m    151\u001B[0m         \u001B[0m内部封装的从数据源导出字节流并构建数据集的方法\u001B[0m\u001B[0;34m\u001B[0m\u001B[0;34m\u001B[0m\u001B[0m\n\u001B[1;32m    152\u001B[0m         \"\"\"\n\u001B[0;32m--> 153\u001B[0;31m         \u001B[0mtable\u001B[0m \u001B[0;34m=\u001B[0m \u001B[0msource\u001B[0m\u001B[0;34m.\u001B[0m\u001B[0mload\u001B[0m\u001B[0;34m(\u001B[0m\u001B[0;34m**\u001B[0m\u001B[0mkwargs\u001B[0m\u001B[0;34m)\u001B[0m\u001B[0;34m\u001B[0m\u001B[0;34m\u001B[0m\u001B[0m\n\u001B[0m\u001B[1;32m    154\u001B[0m \u001B[0;34m\u001B[0m\u001B[0m\n\u001B[1;32m    155\u001B[0m         \u001B[0;31m# 特判 is_download_to_local 的兼容\u001B[0m\u001B[0;34m\u001B[0m\u001B[0;34m\u001B[0m\u001B[0m\n",
      "\u001B[0;32m~/PycharmProjects/bce-qianfan-sdk/python/qianfan/dataset/data_source/file.py\u001B[0m in \u001B[0;36mload\u001B[0;34m(self, **kwargs)\u001B[0m\n\u001B[1;32m    228\u001B[0m         \u001B[0;31m# 如果是单个文件，直接读取\u001B[0m\u001B[0;34m\u001B[0m\u001B[0;34m\u001B[0m\u001B[0m\n\u001B[1;32m    229\u001B[0m         \u001B[0;32mif\u001B[0m \u001B[0;32mnot\u001B[0m \u001B[0mos\u001B[0m\u001B[0;34m.\u001B[0m\u001B[0mpath\u001B[0m\u001B[0;34m.\u001B[0m\u001B[0misdir\u001B[0m\u001B[0;34m(\u001B[0m\u001B[0mself\u001B[0m\u001B[0;34m.\u001B[0m\u001B[0mpath\u001B[0m\u001B[0;34m)\u001B[0m\u001B[0;34m:\u001B[0m\u001B[0;34m\u001B[0m\u001B[0;34m\u001B[0m\u001B[0m\n\u001B[0;32m--> 230\u001B[0;31m             return _get_a_memory_mapped_pyarrow_table(\n\u001B[0m\u001B[1;32m    231\u001B[0m                 \u001B[0mself\u001B[0m\u001B[0;34m.\u001B[0m\u001B[0mpath\u001B[0m\u001B[0;34m,\u001B[0m \u001B[0mself\u001B[0m\u001B[0;34m.\u001B[0m\u001B[0mfile_format\u001B[0m\u001B[0;34m,\u001B[0m \u001B[0;34m**\u001B[0m\u001B[0mkwargs\u001B[0m\u001B[0;34m\u001B[0m\u001B[0;34m\u001B[0m\u001B[0m\n\u001B[1;32m    232\u001B[0m             )\n",
      "\u001B[0;32m~/PycharmProjects/bce-qianfan-sdk/python/qianfan/dataset/data_source/utils.py\u001B[0m in \u001B[0;36m_get_a_memory_mapped_pyarrow_table\u001B[0;34m(path, format_type, **kwargs)\u001B[0m\n\u001B[1;32m    233\u001B[0m ) -> pyarrow.Table:\n\u001B[1;32m    234\u001B[0m     \u001B[0mreader\u001B[0m \u001B[0;34m=\u001B[0m \u001B[0m_get_reader_class\u001B[0m\u001B[0;34m(\u001B[0m\u001B[0mformat_type\u001B[0m\u001B[0;34m)\u001B[0m\u001B[0;34m(\u001B[0m\u001B[0mfile_path\u001B[0m\u001B[0;34m=\u001B[0m\u001B[0mpath\u001B[0m\u001B[0;34m,\u001B[0m \u001B[0;34m**\u001B[0m\u001B[0mkwargs\u001B[0m\u001B[0;34m)\u001B[0m\u001B[0;34m\u001B[0m\u001B[0;34m\u001B[0m\u001B[0m\n\u001B[0;32m--> 235\u001B[0;31m     \u001B[0mcache_file_path\u001B[0m \u001B[0;34m=\u001B[0m \u001B[0m_get_cache_file_path_and_check_cache_validity\u001B[0m\u001B[0;34m(\u001B[0m\u001B[0mpath\u001B[0m\u001B[0;34m,\u001B[0m \u001B[0mreader\u001B[0m\u001B[0;34m)\u001B[0m\u001B[0;34m\u001B[0m\u001B[0;34m\u001B[0m\u001B[0m\n\u001B[0m\u001B[1;32m    236\u001B[0m     \u001B[0mtable\u001B[0m \u001B[0;34m=\u001B[0m \u001B[0m_read_mmap_table_from_arrow_file\u001B[0m\u001B[0;34m(\u001B[0m\u001B[0mcache_file_path\u001B[0m\u001B[0;34m)\u001B[0m\u001B[0;34m\u001B[0m\u001B[0;34m\u001B[0m\u001B[0m\n\u001B[1;32m    237\u001B[0m     \u001B[0mlog_info\u001B[0m\u001B[0;34m(\u001B[0m\u001B[0;34m\"has got a memory-mapped table\"\u001B[0m\u001B[0;34m)\u001B[0m\u001B[0;34m\u001B[0m\u001B[0;34m\u001B[0m\u001B[0m\n",
      "\u001B[0;32m~/PycharmProjects/bce-qianfan-sdk/python/qianfan/dataset/data_source/utils.py\u001B[0m in \u001B[0;36m_get_cache_file_path_and_check_cache_validity\u001B[0;34m(file_path, reader)\u001B[0m\n\u001B[1;32m    346\u001B[0m \u001B[0;34m\u001B[0m\u001B[0m\n\u001B[1;32m    347\u001B[0m     \u001B[0;31m# 创建缓存文件\u001B[0m\u001B[0;34m\u001B[0m\u001B[0;34m\u001B[0m\u001B[0m\n\u001B[0;32m--> 348\u001B[0;31m     \u001B[0m_write_table_to_arrow_file\u001B[0m\u001B[0;34m(\u001B[0m\u001B[0mcache_file_path\u001B[0m\u001B[0;34m,\u001B[0m \u001B[0mreader\u001B[0m\u001B[0;34m)\u001B[0m\u001B[0;34m\u001B[0m\u001B[0;34m\u001B[0m\u001B[0m\n\u001B[0m\u001B[1;32m    349\u001B[0m \u001B[0;34m\u001B[0m\u001B[0m\n\u001B[1;32m    350\u001B[0m     \u001B[0;31m# 更新缓存元信息\u001B[0m\u001B[0;34m\u001B[0m\u001B[0;34m\u001B[0m\u001B[0m\n",
      "\u001B[0;32m~/PycharmProjects/bce-qianfan-sdk/python/qianfan/dataset/data_source/utils.py\u001B[0m in \u001B[0;36m_write_table_to_arrow_file\u001B[0;34m(cache_file_path, reader)\u001B[0m\n\u001B[1;32m    376\u001B[0m     \u001B[0mlog_info\u001B[0m\u001B[0;34m(\u001B[0m\u001B[0;34mf\"start to write arrow table to {cache_file_path}\"\u001B[0m\u001B[0;34m)\u001B[0m\u001B[0;34m\u001B[0m\u001B[0;34m\u001B[0m\u001B[0m\n\u001B[1;32m    377\u001B[0m \u001B[0;34m\u001B[0m\u001B[0m\n\u001B[0;32m--> 378\u001B[0;31m     \u001B[0;32mfor\u001B[0m \u001B[0mtable\u001B[0m \u001B[0;32min\u001B[0m \u001B[0m_build_table_from_reader\u001B[0m\u001B[0;34m(\u001B[0m\u001B[0mreader\u001B[0m\u001B[0;34m)\u001B[0m\u001B[0;34m:\u001B[0m\u001B[0;34m\u001B[0m\u001B[0;34m\u001B[0m\u001B[0m\n\u001B[0m\u001B[1;32m    379\u001B[0m         \u001B[0;32massert\u001B[0m \u001B[0misinstance\u001B[0m\u001B[0;34m(\u001B[0m\u001B[0mtable\u001B[0m\u001B[0;34m,\u001B[0m \u001B[0mpyarrow\u001B[0m\u001B[0;34m.\u001B[0m\u001B[0mTable\u001B[0m\u001B[0;34m)\u001B[0m\u001B[0;34m\u001B[0m\u001B[0;34m\u001B[0m\u001B[0m\n\u001B[1;32m    380\u001B[0m         \u001B[0;32mif\u001B[0m \u001B[0mstream_writer\u001B[0m \u001B[0;32mis\u001B[0m \u001B[0;32mNone\u001B[0m\u001B[0;34m:\u001B[0m\u001B[0;34m\u001B[0m\u001B[0;34m\u001B[0m\u001B[0m\n",
      "\u001B[0;32m~/PycharmProjects/bce-qianfan-sdk/python/qianfan/dataset/data_source/utils.py\u001B[0m in \u001B[0;36m_build_table_from_reader\u001B[0;34m(reader)\u001B[0m\n\u001B[1;32m    403\u001B[0m             \u001B[0mreader_type\u001B[0m \u001B[0;34m==\u001B[0m \u001B[0mJsonLineReader\u001B[0m \u001B[0;32mor\u001B[0m \u001B[0mreader_type\u001B[0m \u001B[0;34m==\u001B[0m \u001B[0mJsonReader\u001B[0m\u001B[0;34m\u001B[0m\u001B[0;34m\u001B[0m\u001B[0m\n\u001B[1;32m    404\u001B[0m         ) and isinstance(elem_list[0], list):\n\u001B[0;32m--> 405\u001B[0;31m             \u001B[0mtable\u001B[0m \u001B[0;34m=\u001B[0m \u001B[0m_construct_packed_table_from_nest_sequence\u001B[0m\u001B[0;34m(\u001B[0m\u001B[0melem_list\u001B[0m\u001B[0;34m)\u001B[0m\u001B[0;34m\u001B[0m\u001B[0;34m\u001B[0m\u001B[0m\n\u001B[0m\u001B[1;32m    406\u001B[0m         \u001B[0;32melif\u001B[0m \u001B[0mreader_type\u001B[0m \u001B[0;34m==\u001B[0m \u001B[0mMapperReader\u001B[0m\u001B[0;34m:\u001B[0m\u001B[0;34m\u001B[0m\u001B[0;34m\u001B[0m\u001B[0m\n\u001B[1;32m    407\u001B[0m             \u001B[0;32mif\u001B[0m \u001B[0misinstance\u001B[0m\u001B[0;34m(\u001B[0m\u001B[0melem_list\u001B[0m\u001B[0;34m[\u001B[0m\u001B[0;36m0\u001B[0m\u001B[0;34m]\u001B[0m\u001B[0;34m,\u001B[0m \u001B[0;34m(\u001B[0m\u001B[0mlist\u001B[0m\u001B[0;34m,\u001B[0m \u001B[0mstr\u001B[0m\u001B[0;34m)\u001B[0m\u001B[0;34m)\u001B[0m\u001B[0;34m:\u001B[0m\u001B[0;34m\u001B[0m\u001B[0;34m\u001B[0m\u001B[0m\n",
      "\u001B[0;32m~/PycharmProjects/bce-qianfan-sdk/python/qianfan/dataset/table_utils.py\u001B[0m in \u001B[0;36m_construct_packed_table_from_nest_sequence\u001B[0;34m(json_data_list, **kwargs)\u001B[0m\n\u001B[1;32m     38\u001B[0m     \u001B[0mjson_data_list\u001B[0m\u001B[0;34m:\u001B[0m \u001B[0mSequence\u001B[0m\u001B[0;34m,\u001B[0m \u001B[0;34m**\u001B[0m\u001B[0mkwargs\u001B[0m\u001B[0;34m:\u001B[0m \u001B[0mAny\u001B[0m\u001B[0;34m\u001B[0m\u001B[0;34m\u001B[0m\u001B[0m\n\u001B[1;32m     39\u001B[0m ) -> pyarrow.Table:\n\u001B[0;32m---> 40\u001B[0;31m     \u001B[0;32mreturn\u001B[0m \u001B[0mpyarrow\u001B[0m\u001B[0;34m.\u001B[0m\u001B[0mTable\u001B[0m\u001B[0;34m.\u001B[0m\u001B[0mfrom_pydict\u001B[0m\u001B[0;34m(\u001B[0m\u001B[0;34m{\u001B[0m\u001B[0mQianfanDatasetPackColumnName\u001B[0m\u001B[0;34m:\u001B[0m \u001B[0mjson_data_list\u001B[0m\u001B[0;34m}\u001B[0m\u001B[0;34m)\u001B[0m\u001B[0;34m\u001B[0m\u001B[0;34m\u001B[0m\u001B[0m\n\u001B[0m",
      "\u001B[0;32m~/opt/anaconda3/lib/python3.9/site-packages/pyarrow/table.pxi\u001B[0m in \u001B[0;36mpyarrow.lib._Tabular.from_pydict\u001B[0;34m()\u001B[0m\n",
      "\u001B[0;32m~/opt/anaconda3/lib/python3.9/site-packages/pyarrow/table.pxi\u001B[0m in \u001B[0;36mpyarrow.lib._from_pydict\u001B[0;34m()\u001B[0m\n",
      "\u001B[0;32m~/opt/anaconda3/lib/python3.9/site-packages/pyarrow/array.pxi\u001B[0m in \u001B[0;36mpyarrow.lib.asarray\u001B[0;34m()\u001B[0m\n",
      "\u001B[0;32m~/opt/anaconda3/lib/python3.9/site-packages/pyarrow/array.pxi\u001B[0m in \u001B[0;36mpyarrow.lib.array\u001B[0;34m()\u001B[0m\n",
      "\u001B[0;32m~/opt/anaconda3/lib/python3.9/site-packages/pyarrow/array.pxi\u001B[0m in \u001B[0;36mpyarrow.lib._sequence_to_array\u001B[0;34m()\u001B[0m\n",
      "\u001B[0;32m~/opt/anaconda3/lib/python3.9/site-packages/pyarrow/error.pxi\u001B[0m in \u001B[0;36mpyarrow.lib.pyarrow_internal_check_status\u001B[0;34m()\u001B[0m\n",
      "\u001B[0;32m~/opt/anaconda3/lib/python3.9/site-packages/pyarrow/error.pxi\u001B[0m in \u001B[0;36mpyarrow.lib.check_status\u001B[0;34m()\u001B[0m\n",
      "\u001B[0;31mArrowInvalid\u001B[0m: Could not convert '该回答完全符合龙葵的角色设定和口吻。回答以龙葵的视角出发，展现了她活泼、好奇且略带羞涩的性格特点。同时，语句流畅，用词恰当，没有出现明显的错误或不当之处。完全符合标准答案的要求，且表现出较高的理解和表达能力。' with type str: tried to convert to double"
     ]
    }
   ],
   "source": [
    "results = []\n",
    "results.append(em.eval([sft_speed], test_ds))\n",
    "results.append(em.eval([base_speed], test_ds))\n",
    "results.append(em.eval([base_eb4], test_ds))"
   ]
  },
  {
   "cell_type": "code",
   "execution_count": null,
   "metadata": {},
   "outputs": [],
   "source": [
    "labels = [\"finetune_Speed\", \"base_Speed\", \"base_EB4\"]\n",
    "metrics = [res.metrics for res in results]\n",
    "os.makedirs(\"./result\", exist_ok=True)\n",
    "for label, result, metrics in zip(labels, results, metrics):\n",
    "    print(f\"{label}:\")\n",
    "    print(result.metrics)\n",
    "    eval_ds = result.result_dataset\n",
    "    local_path = f'./result/dataset_{label}.jsonl'\n",
    "    eval_ds.save(data_file=local_path)"
   ]
  },
  {
   "cell_type": "markdown",
   "metadata": {},
   "source": [
    "从结果可见，微调后的Speed效果有了很大提升, 并且相对EB4模型，在准确率、相似度指标上都有优势，降本增效。"
   ]
  }
 ],
 "metadata": {
  "celltoolbar": "Tags",
  "kernelspec": {
   "display_name": "Python 3 (ipykernel)",
   "language": "python",
   "name": "python3"
  },
  "language_info": {
   "codemirror_mode": {
    "name": "ipython",
    "version": 3
   },
   "file_extension": ".py",
   "mimetype": "text/x-python",
   "name": "python",
   "nbconvert_exporter": "python",
   "pygments_lexer": "ipython3",
   "version": "3.9.13"
  },
  "vscode": {
   "interpreter": {
    "hash": "58f7cb64c3a06383b7f18d2a11305edccbad427293a2b4afa7abe8bfc810d4bb"
   }
  }
 },
 "nbformat": 4,
 "nbformat_minor": 2
}
