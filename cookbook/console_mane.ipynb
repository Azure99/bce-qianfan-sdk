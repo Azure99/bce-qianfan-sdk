{
 "cells": [
  {
   "attachments": {},
   "cell_type": "markdown",
   "metadata": {},
   "source": [
    "### 前言\n",
    "\n",
    "本篇主要介绍end-to-end的LLMops流程中的SFT微调->发布->推理流程，使用的SDK版本为0.1.0。建议提前熟悉预测服务相关SDK功能作为前置知识。"
   ]
  },
  {
   "cell_type": "code",
   "execution_count": 6,
   "metadata": {},
   "outputs": [],
   "source": [
    "import qianfan\n"
   ]
  },
  {
   "attachments": {},
   "cell_type": "markdown",
   "metadata": {},
   "source": [
    "## 大模型调优\n",
    "千帆平台支持SFT/RLHF两种方法进行模型优化，当前SDK已支持对SFT训练微调任务的创建和管理。\n",
    "SFT 相关操作使用“安全认证/Access Key”中的 Access Key ID 和 Secret Access Key 进行鉴权，无法使用获取Access Token的方式鉴权，相关 key 可以在百度智能云控制台中安全认证获取，详细流程可以参见文档。\n",
    "鉴权方式除`命名`外，使用方法与预测功能使用的AK 与 SK 方式相同，提供如下三种方式：\n",
    "\n",
    "- 通过`环境变量`传递（作用于全局，优先级最低）\n",
    "- 通过`内置函数`传递（作用于全局，优先级大于环境变量）\n",
    "- 通过`调用接口`时传递（仅作用于该请求，优先级最高）"
   ]
  },
  {
   "cell_type": "code",
   "execution_count": null,
   "metadata": {},
   "outputs": [],
   "source": [
    "# 通过环境变量传递（作用于全局，优先级最低）\n",
    "import os\n",
    "os.environ[\"QIANFAN_ACCESS_KEY\"] = \"...\"\n",
    "os.environ[\"QIANFAN_SECRET_KEY\"] = \"...\"\n",
    "\n",
    "# 通过内置函数传递（作用于全局，优先级大于环境变量）\n",
    "# import qianfan\n",
    "# qianfan.AccessKey(\"...\")\n",
    "# qianfan.SecretKey(\"...\")\n",
    "\n",
    "# 调用相关接口时传递（仅作用于该请求，优先级最高）\n",
    "# import qianfan\n",
    "# task = qianfan.FineTune.create_task(ak=\"...\", sk=\"...\")"
   ]
  },
  {
   "cell_type": "code",
   "execution_count": 2,
   "metadata": {},
   "outputs": [],
   "source": [
    "\n",
    "import os\n",
    "os.environ[\"QIANFAN_ACCESS_KEY\"] = 'your_iam_ak'\n",
    "os.environ[\"QIANFAN_SECRET_KEY\"] = \"your_iam_sk\""
   ]
  },
  {
   "attachments": {},
   "cell_type": "markdown",
   "metadata": {},
   "source": [
    "目前千帆平台支持如下 SFT 相关操作：\n",
    "* 创建训练任务\n",
    "* 创建任务运行\n",
    "* 获取任务运行详情\n",
    "* 停止任务运行\n",
    "\n",
    "### 创建SFT任务\n",
    "\n",
    "创建训练任务需要提供任务名称`name`和任务描述`description`，返回结果在`result`字段中，具体字段与API 文档一致。"
   ]
  },
  {
   "cell_type": "code",
   "execution_count": 4,
   "metadata": {},
   "outputs": [],
   "source": [
    "# 创建任务\n",
    "resp = qianfan.FineTune.create_task(name=\"test_sdk_codeh22j\", description=\"forsdktest1\")\n"
   ]
  },
  {
   "cell_type": "code",
   "execution_count": 5,
   "metadata": {},
   "outputs": [
    {
     "data": {
      "text/plain": [
       "12733"
      ]
     },
     "execution_count": 5,
     "metadata": {},
     "output_type": "execute_result"
    }
   ],
   "source": [
    "# 获取任务ID\n",
    "task_id = resp[\"result\"][\"id\"]\n",
    "task_id"
   ]
  },
  {
   "cell_type": "code",
   "execution_count": 2,
   "metadata": {},
   "outputs": [],
   "source": [
    "task_id = 12698\n"
   ]
  },
  {
   "attachments": {},
   "cell_type": "markdown",
   "metadata": {},
   "source": [
    "### 创建任务运行\n",
    "\n",
    "创建任务运行需要提供该次训练的详细配置，例如模型版本（`trainType`）、数据集(`trainset`)等等，且不同模型的参数配置存在差异，具体参数可以参见API 文档。"
   ]
  },
  {
   "cell_type": "code",
   "execution_count": null,
   "metadata": {},
   "outputs": [],
   "source": [
    "# 创建任务运行，具体参数可以参见 API 文档\n",
    "create_job_resp = qianfan.FineTune.create_job({\n",
    "    \"taskId\": task_id,\n",
    "    \"baseTrainType\": \"ERNIE-Bot-turbo\",\n",
    "    \"trainType\": \"ERNIE-Bot-turbo-0725\",\n",
    "    \"trainMode\": \"SFT\",\n",
    "    \"peftType\": \"LoRA\",\n",
    "    \"trainConfig\": {\n",
    "        \"epoch\": 4,\n",
    "        \"learningRate\": 0.00002,\n",
    "        \"batchSize\": 4,\n",
    "        \"maxSeqLen\": 4096\n",
    "    },\n",
    "    \"trainset\": [\n",
    "        {\n",
    "            \"type\": 1,\n",
    "            \"id\": 12563\n",
    "        }\n",
    "    ],\n",
    "    \"trainsetRate\": 20\n",
    "})"
   ]
  },
  {
   "cell_type": "code",
   "execution_count": 9,
   "metadata": {},
   "outputs": [
    {
     "data": {
      "text/plain": [
       "QfResponse(code=200, headers={'Date': 'Thu, 26 Oct 2023 11:36:06 GMT', 'Content-Type': 'application/json; charset=utf-8', 'Content-Length': '44', 'tracecode': '21660437462240896522102619', 'Set-Cookie': 'BAIDUID=4CD96F03A434BCF8598B88943EFC0773:FG=1; expires=Fri, 25-Oct-24 11:36:06 GMT; max-age=31536000; path=/; domain=.baidu.com; version=1', 'P3P': 'CP=\" OTI DSP COR IVA OUR IND COM \"', 'X-Bce-Request-Id': '859a7cd8-30bd-456d-8b24-ed07840b4a57', 'X-Bce-Gateway-Region': 'GZ'}, body={'log_id': '3898732436', 'result': {'id': 6506}}, image=None)"
      ]
     },
     "execution_count": 9,
     "metadata": {},
     "output_type": "execute_result"
    }
   ],
   "source": [
    "create_job_resp"
   ]
  },
  {
   "cell_type": "code",
   "execution_count": 38,
   "metadata": {},
   "outputs": [
    {
     "name": "stdout",
     "output_type": "stream",
     "text": [
      "job status: FINISH\n"
     ]
    }
   ],
   "source": [
    "import time\n",
    "\n",
    "job_id = create_job_resp[\"result\"][\"id\"]\n",
    "while True:\n",
    "    job_status_resp = qianfan.FineTune.get_job(task_id=task_id, job_id=job_id)\n",
    "    job_status = job_status_resp[\"result\"][\"trainStatus\"]\n",
    "    print(\"job status:\", job_status)\n",
    "    if job_status != 'RUNNING':\n",
    "        break\n",
    "    time.sleep(60)"
   ]
  },
  {
   "attachments": {},
   "cell_type": "markdown",
   "metadata": {},
   "source": [
    "### 发布模型"
   ]
  },
  {
   "cell_type": "code",
   "execution_count": 57,
   "metadata": {},
   "outputs": [
    {
     "name": "stdout",
     "output_type": "stream",
     "text": [
      "model_id: 7521\n",
      "model_version 1\n"
     ]
    }
   ],
   "source": [
    "sft_task_publish_resp = qianfan.Model.publish(is_new=True, model_name=\"test_sdk_hj1\", version_meta={\n",
    "    \"taskId\": task_id, \"iterationId\": job_id\n",
    "})\n",
    "# 获取model_id and version\n",
    "model_id = sft_task_publish_resp[\"result\"][\"modelId\"]\n",
    "model_version = sft_task_publish_resp[\"result\"][\"version\"]\n",
    "print(\"model_id:\", model_id)\n",
    "print(\"model_version\", model_version)"
   ]
  },
  {
   "cell_type": "code",
   "execution_count": 62,
   "metadata": {},
   "outputs": [
    {
     "name": "stdout",
     "output_type": "stream",
     "text": [
      "model_version_id 9302\n"
     ]
    }
   ],
   "source": [
    "# 获取模型版本信息：\n",
    "model_version_list = qianfan.Model.list(model_id=model_id)\n",
    "model_version_id: int = 0 \n",
    "for m in model_version_list[\"result\"][\"modelVersionList\"]:\n",
    "    if m[\"modelId\"] == model_id and m[\"version\"] == model_version:\n",
    "        model_version_id = m[\"modelVersionId\"]\n",
    "if model_version_id == 0:\n",
    "    raise ValueError(\"not model version\")\n",
    "print(\"model_version_id\", model_version_id)"
   ]
  },
  {
   "attachments": {},
   "cell_type": "markdown",
   "metadata": {},
   "source": [
    "### 发布模型服务"
   ]
  },
  {
   "cell_type": "code",
   "execution_count": null,
   "metadata": {},
   "outputs": [],
   "source": [
    "\n",
    "g = qianfan.Service.create(\n",
    "    model_id = model_id, \n",
    "    iteration_id = model_version_id, \n",
    "    name=\"testsebqf1\", \n",
    "    uri=\"sdkqf1\",\n",
    "    replicas=1, \n",
    "    pool_type=2\n",
    ")\n"
   ]
  },
  {
   "cell_type": "code",
   "execution_count": 25,
   "metadata": {},
   "outputs": [
    {
     "data": {
      "text/plain": [
       "3803"
      ]
     },
     "execution_count": 25,
     "metadata": {},
     "output_type": "execute_result"
    }
   ],
   "source": [
    "svc_id = g[\"result\"][\"serviceId\"]\n",
    "svc_id"
   ]
  },
  {
   "cell_type": "code",
   "execution_count": 28,
   "metadata": {},
   "outputs": [
    {
     "name": "stdout",
     "output_type": "stream",
     "text": [
      "sft_model_endpoint: t0b2osh7_sdktttt1\n"
     ]
    }
   ],
   "source": [
    "# 查看模型服务状态\n",
    "resp = qianfan.Service.get(id = svc_id)\n",
    "sft_model_endpoint=resp[\"result\"][\"uri\"]\n",
    "print(\"sft_model_endpoint:\", sft_model_endpoint)"
   ]
  },
  {
   "attachments": {},
   "cell_type": "markdown",
   "metadata": {},
   "source": [
    "### 访问SFT模型服务\n"
   ]
  },
  {
   "cell_type": "code",
   "execution_count": 33,
   "metadata": {},
   "outputs": [],
   "source": [
    "os.environ[\"QIANFAN_AK\"] = \"your_app_ak\"\n",
    "os.environ[\"QIANFAN_SK\"] = \"your_app_sk\""
   ]
  },
  {
   "cell_type": "code",
   "execution_count": 39,
   "metadata": {},
   "outputs": [
    {
     "data": {
      "text/plain": [
       "QfResponse(code=200, headers={'Access-Control-Allow-Headers': 'Content-Type', 'Access-Control-Allow-Origin': '*', 'Appid': '26217442', 'Connection': 'keep-alive', 'Content-Encoding': 'gzip', 'Content-Type': 'application/json; charset=utf-8', 'Date': 'Thu, 26 Oct 2023 12:12:32 GMT', 'P3p': 'CP=\" OTI DSP COR IVA OUR IND COM \"', 'Server': 'Apache', 'Set-Cookie': 'BAIDUID=7FBBE2E6B5D83AB3C6A3B5F2ABB8E430:FG=1; expires=Thu, 31-Dec-37 23:55:55 GMT; max-age=2145916555; path=/; domain=.baidu.com; version=1', 'Statement': 'AI-generated', 'Vary': 'Accept-Encoding', 'X-Aipe-Self-Def': 'eb_total_tokens:17-id:as-j0ker4w7ar', 'X-Baidu-Request-Id': '9a143024d69419cb6e8ab8bb2d751b8e1000130', 'X-Openapi-Server-Timestamp': '1698322351', 'Content-Length': '222'}, body={'id': 'as-j0ker4w7ar', 'object': 'chat.completion', 'created': 1698322352, 'result': '我是文心一言，是百度研发的。', 'is_truncated': False, 'need_clear_history': False, 'usage': {'prompt_tokens': 5, 'completion_tokens': 12, 'total_tokens': 17}}, image=None)"
      ]
     },
     "execution_count": 39,
     "metadata": {},
     "output_type": "execute_result"
    }
   ],
   "source": [
    "chat_comp = qianfan.ChatCompletion(endpoint=sft_model_endpoint)\n",
    "msgs = qianfan.Messages()\n",
    "msgs.append(message=\"你好，你是谁？\", role=qianfan.QfRole.User)\n",
    "chat_resp = chat_comp.do(messages=msgs)\n",
    "chat_resp\n"
   ]
  },
  {
   "attachments": {},
   "cell_type": "markdown",
   "metadata": {},
   "source": [
    "### 总结\n",
    "至此，你已经通过SFT训练成功的微调出自己的大语言模型，SFT是一个很好的手段，用于针对于特定场景下的语料进行模型特化，以增强模型在某方面的能力，非常适合对于垂直领域内的应用。除了SFT之外，千帆平台还提供了RLHF功能，SDK也将在将来持续跟进LLMOps能力。"
   ]
  }
 ],
 "metadata": {
  "kernelspec": {
   "display_name": "base",
   "language": "python",
   "name": "python3"
  },
  "language_info": {
   "codemirror_mode": {
    "name": "ipython",
    "version": 3
   },
   "file_extension": ".py",
   "mimetype": "text/x-python",
   "name": "python",
   "nbconvert_exporter": "python",
   "pygments_lexer": "ipython3",
   "version": "3.11.5"
  },
  "orig_nbformat": 4,
  "vscode": {
   "interpreter": {
    "hash": "58f7cb64c3a06383b7f18d2a11305edccbad427293a2b4afa7abe8bfc810d4bb"
   }
  }
 },
 "nbformat": 4,
 "nbformat_minor": 2
}
